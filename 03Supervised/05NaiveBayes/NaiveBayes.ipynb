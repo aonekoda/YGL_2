{
  "nbformat": 4,
  "nbformat_minor": 0,
  "metadata": {
    "colab": {
      "name": "NaiveBayes.ipynb",
      "provenance": []
    },
    "kernelspec": {
      "display_name": "Python 3",
      "language": "python",
      "name": "python3"
    },
    "language_info": {
      "codemirror_mode": {
        "name": "ipython",
        "version": 3
      },
      "file_extension": ".py",
      "mimetype": "text/x-python",
      "name": "python",
      "nbconvert_exporter": "python",
      "pygments_lexer": "ipython3",
      "version": "3.7.6"
    }
  },
  "cells": [
    {
      "cell_type": "markdown",
      "metadata": {
        "id": "qYTG3BP0loXw"
      },
      "source": [
        "# Scikit-learn을 활용한 나이브 베이즈 분류기\n",
        "나이브 베이즈(Naive Bayes)는 베이즈 이론(Bayes theorem)의 확률 모델을 기반으로 하는 매우 단순하지만 강력한 분류 모형이다.\n",
        "\n"
      ]
    },
    {
      "cell_type": "markdown",
      "metadata": {
        "id": "5PGxS3RMloXy"
      },
      "source": [
        "### 날씨, 기온에 따른 축구 여부 분류\n",
        "2개의 Feature (Weather, Temp)와 1개의 Label (Play)로 구성된 dataset을 생성한다.  \n",
        "\n",
        "* weather 구분 : 0='흐림', 1='비', 2='맑음'\n",
        "* temp 구분 : 0='시원',1='더움',2='보통'\n",
        "* label 구분 : 0='경기 안함', 1='경기 함'"
      ]
    },
    {
      "cell_type": "code",
      "metadata": {
        "id": "CawvNY2EloXy"
      },
      "source": [
        "import numpy as np"
      ],
      "execution_count": 35,
      "outputs": []
    },
    {
      "cell_type": "code",
      "metadata": {
        "id": "GdpTrNVKloX2"
      },
      "source": [
        "weather = np.array([2, 2, 0, 1, 1, 1, 0, 2, 2, 1, 2, 0, 0, 1])\n",
        "temp = np.array([1, 1, 1, 2, 0, 0, 0, 2, 0, 2, 2, 2, 1, 2])\n",
        "label = np.array([0, 0, 1, 1, 1, 0, 1, 0, 1, 1, 1, 1, 1, 0])"
      ],
      "execution_count": 36,
      "outputs": []
    },
    {
      "cell_type": "code",
      "metadata": {
        "colab": {
          "base_uri": "https://localhost:8080/"
        },
        "id": "xgMhWVsdloX-",
        "outputId": "9eac0341-6e11-435c-877b-58b17b031329"
      },
      "source": [
        "features = zip(weather,temp)\n",
        "features = list(features)\n",
        "print(features)"
      ],
      "execution_count": 37,
      "outputs": [
        {
          "output_type": "stream",
          "text": [
            "[(2, 1), (2, 1), (0, 1), (1, 2), (1, 0), (1, 0), (0, 0), (2, 2), (2, 0), (1, 2), (2, 2), (0, 2), (0, 1), (1, 2)]\n"
          ],
          "name": "stdout"
        }
      ]
    },
    {
      "cell_type": "markdown",
      "metadata": {
        "id": "vw1x9WP0loYE"
      },
      "source": [
        "* sklearn을 활용하여 나이브 베이즈 분류기 모델을 생성한다.  \n",
        "* 모델 생성 -> 훈련 데이터 Fitting -> 분류로 실행한다."
      ]
    },
    {
      "cell_type": "code",
      "metadata": {
        "colab": {
          "base_uri": "https://localhost:8080/"
        },
        "id": "MCQgX15tloYF",
        "outputId": "9dd27262-e1a2-4885-faad-d66b8076b60c"
      },
      "source": [
        "#Import Gaussian Naive Bayes model\n",
        "from sklearn.naive_bayes import GaussianNB\n",
        "\n",
        "#Create a Gaussian Classifier\n",
        "model = GaussianNB()\n",
        "\n",
        "# Train the model using the training sets\n",
        "model.fit(features,label)\n",
        "\n",
        "#Predict Output\n",
        "predicted= model.predict([[0,2]]) # 0:Overcast, 2:Mild\n",
        "\n",
        "print(\"Predicted Value:\", predicted) # 1: Yes\n",
        "print(\"Predicted probability:\", model.predict_proba([[0,2]]))"
      ],
      "execution_count": 50,
      "outputs": [
        {
          "output_type": "stream",
          "text": [
            "Predicted Value: [1]\n",
            "Predicted probability: [[0.00770751 0.99229249]]\n"
          ],
          "name": "stdout"
        }
      ]
    },
    {
      "cell_type": "markdown",
      "metadata": {
        "id": "S0qYH5_xloYJ"
      },
      "source": [
        "> 예측 결과: 날씨가 흐림이고 기온이 보통일 때, \"경기 함\"으로 분류된다."
      ]
    },
    {
      "cell_type": "markdown",
      "metadata": {
        "id": "sLpHfvNHloYK"
      },
      "source": [
        "### 나이브 베이즈를 활용한 wine 데이터 분류\n",
        "\n",
        "사이킷런에서 기본 제공하는 와인 데이터를 사용하여 와인의 class('class_0' 'class_1' 'class_2')를 분류하는 분류 모형을 생성한다."
      ]
    },
    {
      "cell_type": "code",
      "metadata": {
        "colab": {
          "base_uri": "https://localhost:8080/"
        },
        "id": "MTDO_g5TloYL",
        "outputId": "66a36ac7-1c19-4168-a96e-5787090db317"
      },
      "source": [
        "#Import scikit-learn dataset library\n",
        "from sklearn import datasets\n",
        "\n",
        "#Load dataset\n",
        "wine = datasets.load_wine()\n",
        "\n",
        "# print the names of the 13 features\n",
        "print(\"Features: \", wine.feature_names)\n",
        "\n",
        "# print the label type of wine(class_0, class_1, class_2)\n",
        "print(\"Labels: \", wine.target_names)"
      ],
      "execution_count": 39,
      "outputs": [
        {
          "output_type": "stream",
          "text": [
            "Features:  ['alcohol', 'malic_acid', 'ash', 'alcalinity_of_ash', 'magnesium', 'total_phenols', 'flavanoids', 'nonflavanoid_phenols', 'proanthocyanins', 'color_intensity', 'hue', 'od280/od315_of_diluted_wines', 'proline']\n",
            "Labels:  ['class_0' 'class_1' 'class_2']\n"
          ],
          "name": "stdout"
        }
      ]
    },
    {
      "cell_type": "code",
      "metadata": {
        "colab": {
          "base_uri": "https://localhost:8080/"
        },
        "id": "7Z532EeSloYP",
        "outputId": "592b56ac-173a-42ab-b1f9-20ec7a67b4bb"
      },
      "source": [
        "wine.data.shape"
      ],
      "execution_count": 40,
      "outputs": [
        {
          "output_type": "execute_result",
          "data": {
            "text/plain": [
              "(178, 13)"
            ]
          },
          "metadata": {
            "tags": []
          },
          "execution_count": 40
        }
      ]
    },
    {
      "cell_type": "code",
      "metadata": {
        "colab": {
          "base_uri": "https://localhost:8080/"
        },
        "id": "LgNOD67NloYU",
        "outputId": "323bd8b9-bab5-4d54-c363-7789dceea8a9"
      },
      "source": [
        "wine.data[0:5]"
      ],
      "execution_count": 41,
      "outputs": [
        {
          "output_type": "execute_result",
          "data": {
            "text/plain": [
              "array([[1.423e+01, 1.710e+00, 2.430e+00, 1.560e+01, 1.270e+02, 2.800e+00,\n",
              "        3.060e+00, 2.800e-01, 2.290e+00, 5.640e+00, 1.040e+00, 3.920e+00,\n",
              "        1.065e+03],\n",
              "       [1.320e+01, 1.780e+00, 2.140e+00, 1.120e+01, 1.000e+02, 2.650e+00,\n",
              "        2.760e+00, 2.600e-01, 1.280e+00, 4.380e+00, 1.050e+00, 3.400e+00,\n",
              "        1.050e+03],\n",
              "       [1.316e+01, 2.360e+00, 2.670e+00, 1.860e+01, 1.010e+02, 2.800e+00,\n",
              "        3.240e+00, 3.000e-01, 2.810e+00, 5.680e+00, 1.030e+00, 3.170e+00,\n",
              "        1.185e+03],\n",
              "       [1.437e+01, 1.950e+00, 2.500e+00, 1.680e+01, 1.130e+02, 3.850e+00,\n",
              "        3.490e+00, 2.400e-01, 2.180e+00, 7.800e+00, 8.600e-01, 3.450e+00,\n",
              "        1.480e+03],\n",
              "       [1.324e+01, 2.590e+00, 2.870e+00, 2.100e+01, 1.180e+02, 2.800e+00,\n",
              "        2.690e+00, 3.900e-01, 1.820e+00, 4.320e+00, 1.040e+00, 2.930e+00,\n",
              "        7.350e+02]])"
            ]
          },
          "metadata": {
            "tags": []
          },
          "execution_count": 41
        }
      ]
    },
    {
      "cell_type": "code",
      "metadata": {
        "colab": {
          "base_uri": "https://localhost:8080/"
        },
        "id": "DXd_5ll4loYY",
        "outputId": "70df4442-a4de-425d-be62-ab9936447a9e"
      },
      "source": [
        "wine.target"
      ],
      "execution_count": 42,
      "outputs": [
        {
          "output_type": "execute_result",
          "data": {
            "text/plain": [
              "array([0, 0, 0, 0, 0, 0, 0, 0, 0, 0, 0, 0, 0, 0, 0, 0, 0, 0, 0, 0, 0, 0,\n",
              "       0, 0, 0, 0, 0, 0, 0, 0, 0, 0, 0, 0, 0, 0, 0, 0, 0, 0, 0, 0, 0, 0,\n",
              "       0, 0, 0, 0, 0, 0, 0, 0, 0, 0, 0, 0, 0, 0, 0, 1, 1, 1, 1, 1, 1, 1,\n",
              "       1, 1, 1, 1, 1, 1, 1, 1, 1, 1, 1, 1, 1, 1, 1, 1, 1, 1, 1, 1, 1, 1,\n",
              "       1, 1, 1, 1, 1, 1, 1, 1, 1, 1, 1, 1, 1, 1, 1, 1, 1, 1, 1, 1, 1, 1,\n",
              "       1, 1, 1, 1, 1, 1, 1, 1, 1, 1, 1, 1, 1, 1, 1, 1, 1, 1, 1, 1, 2, 2,\n",
              "       2, 2, 2, 2, 2, 2, 2, 2, 2, 2, 2, 2, 2, 2, 2, 2, 2, 2, 2, 2, 2, 2,\n",
              "       2, 2, 2, 2, 2, 2, 2, 2, 2, 2, 2, 2, 2, 2, 2, 2, 2, 2, 2, 2, 2, 2,\n",
              "       2, 2])"
            ]
          },
          "metadata": {
            "tags": []
          },
          "execution_count": 42
        }
      ]
    },
    {
      "cell_type": "markdown",
      "metadata": {
        "id": "vghS0XAzloYb"
      },
      "source": [
        "### 데이터 나누기\n",
        "데이터를 train 데이터와 test 데이터로 나눈다."
      ]
    },
    {
      "cell_type": "code",
      "metadata": {
        "id": "A22w55D5loYc"
      },
      "source": [
        "# Import train_test_split function\n",
        "from sklearn.model_selection import train_test_split\n",
        "\n",
        "# Split dataset into training set and test set\n",
        "X_train, X_test, y_train, y_test = train_test_split(wine.data, wine.target, test_size=0.3, random_state=109)"
      ],
      "execution_count": 43,
      "outputs": []
    },
    {
      "cell_type": "markdown",
      "metadata": {
        "id": "lNwqI8bMloYf"
      },
      "source": [
        "### 모형의 생성, 훈련\n",
        "\n",
        "가우시안 나이브 베이즈 모형을 사용하여 와인 데이터 분류 모형을 만들어 훈련한다.  \n"
      ]
    },
    {
      "cell_type": "code",
      "metadata": {
        "id": "1UIZXRDcloYg"
      },
      "source": [
        "#Import Gaussian Naive Bayes model\n",
        "from sklearn.naive_bayes import GaussianNB\n",
        "\n",
        "#Create a Gaussian Classifier\n",
        "gnb = GaussianNB()\n",
        "\n",
        "#Train the model \n",
        "gnb.fit(X_train, y_train)\n",
        "\n",
        "#Predict\n",
        "y_pred = gnb.predict(X_test)"
      ],
      "execution_count": 44,
      "outputs": []
    },
    {
      "cell_type": "markdown",
      "metadata": {
        "id": "9cF5wUE0loYj"
      },
      "source": [
        "나이브베이즈 모형에서 predict_proba를 사용하면 각 클래스에 대한 예측 확률값을 출력한다."
      ]
    },
    {
      "cell_type": "code",
      "metadata": {
        "colab": {
          "base_uri": "https://localhost:8080/"
        },
        "id": "xghXvMWTloYk",
        "outputId": "8f79e72b-1159-444d-bc15-721572b40406"
      },
      "source": [
        "prob = np.round(gnb.predict_proba(X_test),2)\n",
        "\n",
        "for prob, pred in zip(prob, y_pred) : \n",
        "    print(prob, '\\t==> ', pred)"
      ],
      "execution_count": 45,
      "outputs": [
        {
          "output_type": "stream",
          "text": [
            "[1. 0. 0.] \t==>  0\n",
            "[0.55 0.45 0.  ] \t==>  0\n",
            "[0. 1. 0.] \t==>  1\n",
            "[0. 0. 1.] \t==>  2\n",
            "[1. 0. 0.] \t==>  0\n",
            "[0.23 0.77 0.  ] \t==>  1\n",
            "[1. 0. 0.] \t==>  0\n",
            "[1. 0. 0.] \t==>  0\n",
            "[0. 1. 0.] \t==>  1\n",
            "[1. 0. 0.] \t==>  0\n",
            "[0.   0.44 0.56] \t==>  2\n",
            "[0.   0.18 0.82] \t==>  2\n",
            "[0. 0. 1.] \t==>  2\n",
            "[0. 0. 1.] \t==>  2\n",
            "[1. 0. 0.] \t==>  0\n",
            "[0. 1. 0.] \t==>  1\n",
            "[0. 1. 0.] \t==>  1\n",
            "[1. 0. 0.] \t==>  0\n",
            "[1. 0. 0.] \t==>  0\n",
            "[0.   0.97 0.03] \t==>  1\n",
            "[0. 0. 1.] \t==>  2\n",
            "[0. 1. 0.] \t==>  1\n",
            "[1. 0. 0.] \t==>  0\n",
            "[0. 0. 1.] \t==>  2\n",
            "[1. 0. 0.] \t==>  0\n",
            "[1. 0. 0.] \t==>  0\n",
            "[0. 1. 0.] \t==>  1\n",
            "[0. 0. 1.] \t==>  2\n",
            "[1. 0. 0.] \t==>  0\n",
            "[0. 1. 0.] \t==>  1\n",
            "[0. 0. 1.] \t==>  2\n",
            "[0. 1. 0.] \t==>  1\n",
            "[0. 1. 0.] \t==>  1\n",
            "[1. 0. 0.] \t==>  0\n",
            "[0. 1. 0.] \t==>  1\n",
            "[0.   0.95 0.05] \t==>  1\n",
            "[1. 0. 0.] \t==>  0\n",
            "[0. 0. 1.] \t==>  2\n",
            "[0. 0. 1.] \t==>  2\n",
            "[1. 0. 0.] \t==>  0\n",
            "[0. 0. 1.] \t==>  2\n",
            "[0.04 0.96 0.  ] \t==>  1\n",
            "[1. 0. 0.] \t==>  0\n",
            "[1. 0. 0.] \t==>  0\n",
            "[1. 0. 0.] \t==>  0\n",
            "[0. 0. 1.] \t==>  2\n",
            "[0. 0. 1.] \t==>  2\n",
            "[1. 0. 0.] \t==>  0\n",
            "[0. 1. 0.] \t==>  1\n",
            "[0. 1. 0.] \t==>  1\n",
            "[0. 0. 1.] \t==>  2\n",
            "[0.92 0.08 0.  ] \t==>  0\n",
            "[1. 0. 0.] \t==>  0\n",
            "[0. 0. 1.] \t==>  2\n"
          ],
          "name": "stdout"
        }
      ]
    },
    {
      "cell_type": "markdown",
      "metadata": {
        "id": "SgJhc-mhloYo"
      },
      "source": [
        "### 모형의 정확도 평가\n",
        "테스트 데이터로 모형을 평가하고 정확도를 출력한다."
      ]
    },
    {
      "cell_type": "code",
      "metadata": {
        "colab": {
          "base_uri": "https://localhost:8080/"
        },
        "id": "QU4GxgyEloYo",
        "outputId": "9d7b008d-da36-41cc-9cff-9199d50013f7"
      },
      "source": [
        "#Import scikit-learn metrics module for accuracy calculation\n",
        "from sklearn import metrics\n",
        "\n",
        "# Model Accuracy\n",
        "print(\"Accuracy:\", metrics.accuracy_score(y_test, y_pred))"
      ],
      "execution_count": 46,
      "outputs": [
        {
          "output_type": "stream",
          "text": [
            "Accuracy: 0.9074074074074074\n"
          ],
          "name": "stdout"
        }
      ]
    },
    {
      "cell_type": "markdown",
      "metadata": {
        "id": "LUI0BXXFloYs"
      },
      "source": [
        "### 실습\n",
        "\n",
        "1. 가우시안 나이브 베이즈(GaussianNB)를 다항분포 나이브 베이즈(MultinomialNB)로 바꾸어 모형을 생성하고 정확도(accuracy)와 분류 확률(predict_proba)을 출력해 보시오."
      ]
    },
    {
      "cell_type": "code",
      "metadata": {
        "id": "10lG2jLl9bMZ"
      },
      "source": [
        ""
      ],
      "execution_count": 46,
      "outputs": []
    }
  ]
}