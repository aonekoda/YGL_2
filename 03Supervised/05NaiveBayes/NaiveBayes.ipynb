{
 "cells": [
  {
   "cell_type": "markdown",
   "metadata": {
    "colab_type": "text",
    "id": "qYTG3BP0loXw"
   },
   "source": [
    "# Scikit-learn을 활용한 나이브 베이즈 분류기\n",
    "나이브 베이즈(Naive Bayes)는 베이즈 이론(Bayes theorem)의 확률 모델을 기반으로 하는 매우 단순하지만 강력한 분류 모형이다.\n",
    "\n"
   ]
  },
  {
   "cell_type": "markdown",
   "metadata": {
    "colab_type": "text",
    "id": "5PGxS3RMloXy"
   },
   "source": [
    "### 날씨, 기온에 따른 축구 여부 분류\n",
    "2개의 Feature (Weather, Temp)와 1개의 Label (Play)로 구성된 dataset을 생성한다.  \n",
    "\n",
    "* weather 구분 : 0='흐림', 1='비', 2='맑음'\n",
    "* temp 구분 : 0='시원',1='더움',2='보통'\n",
    "* label 구분 : 0='경기 안함', 1='경기 함'"
   ]
  },
  {
   "cell_type": "code",
   "execution_count": 1,
   "metadata": {
    "colab": {},
    "colab_type": "code",
    "id": "CawvNY2EloXy"
   },
   "outputs": [],
   "source": [
    "import numpy as np"
   ]
  },
  {
   "cell_type": "code",
   "execution_count": 2,
   "metadata": {
    "colab": {},
    "colab_type": "code",
    "id": "GdpTrNVKloX2"
   },
   "outputs": [],
   "source": [
    "weather = np.array([2, 2, 0, 1, 1, 1, 0, 2, 2, 1, 2, 0, 0, 1])\n",
    "temp = np.array([1, 1, 1, 2, 0, 0, 0, 2, 0, 2, 2, 2, 1, 2])\n",
    "label = np.array([0, 0, 1, 1, 1, 0, 1, 0, 1, 1, 1, 1, 1, 0])"
   ]
  },
  {
   "cell_type": "code",
   "execution_count": 3,
   "metadata": {
    "colab": {},
    "colab_type": "code",
    "id": "xgMhWVsdloX-",
    "outputId": "d06e6d0c-1a41-4601-efcd-8dc4294707f7"
   },
   "outputs": [
    {
     "name": "stdout",
     "output_type": "stream",
     "text": [
      "[(2, 1), (2, 1), (0, 1), (1, 2), (1, 0), (1, 0), (0, 0), (2, 2), (2, 0), (1, 2), (2, 2), (0, 2), (0, 1), (1, 2)]\n"
     ]
    }
   ],
   "source": [
    "features = zip(weather,temp)\n",
    "features = list(features)\n",
    "print(features)"
   ]
  },
  {
   "cell_type": "markdown",
   "metadata": {
    "colab_type": "text",
    "id": "vw1x9WP0loYE"
   },
   "source": [
    "* sklearn을 활용하여 나이브 베이즈 분류기 모델을 생성한다.  \n",
    "* 모델 생성 -> 훈련 데이터 Fitting -> 분류로 실행한다."
   ]
  },
  {
   "cell_type": "code",
   "execution_count": 4,
   "metadata": {
    "colab": {},
    "colab_type": "code",
    "id": "MCQgX15tloYF",
    "outputId": "12b05e6e-3c82-4124-b85b-c9f422baf10c"
   },
   "outputs": [
    {
     "name": "stdout",
     "output_type": "stream",
     "text": [
      "Predicted Value: [1]\n",
      "Predicted probability: [[0.00770751 0.99229249]]\n"
     ]
    }
   ],
   "source": [
    "#Import Gaussian Naive Bayes model\n",
    "from sklearn.naive_bayes import GaussianNB\n",
    "\n",
    "#Create a Gaussian Classifier\n",
    "model = GaussianNB()\n",
    "\n",
    "# Train the model using the training sets\n",
    "model.fit(features,label)\n",
    "\n",
    "#Predict Output\n",
    "predicted= model.predict([[0,2]]) # 0:Overcast, 2:Mild\n",
    "\n",
    "print(\"Predicted Value:\", predicted) # 1: Yes\n",
    "print(\"Predicted probability:\", model.predict_proba([[0,2]]))"
   ]
  },
  {
   "cell_type": "markdown",
   "metadata": {
    "colab_type": "text",
    "id": "S0qYH5_xloYJ"
   },
   "source": [
    "> 예측 결과: 날씨가 흐림이고 기온이 보통일 때, \"경기 함\"으로 분류된다."
   ]
  },
  {
   "cell_type": "markdown",
   "metadata": {
    "colab_type": "text",
    "id": "sLpHfvNHloYK"
   },
   "source": [
    "### 나이브 베이즈를 활용한 wine 데이터 분류\n",
    "\n",
    "사이킷런에서 기본 제공하는 와인 데이터를 사용하여 와인의 class('class_0' 'class_1' 'class_2')를 분류하는 분류 모형을 생성한다."
   ]
  },
  {
   "cell_type": "code",
   "execution_count": 5,
   "metadata": {
    "colab": {},
    "colab_type": "code",
    "id": "MTDO_g5TloYL",
    "outputId": "80376f81-8b7b-4bc1-8efd-b43f053d0107"
   },
   "outputs": [
    {
     "name": "stdout",
     "output_type": "stream",
     "text": [
      "Features:  ['alcohol', 'malic_acid', 'ash', 'alcalinity_of_ash', 'magnesium', 'total_phenols', 'flavanoids', 'nonflavanoid_phenols', 'proanthocyanins', 'color_intensity', 'hue', 'od280/od315_of_diluted_wines', 'proline']\n",
      "Labels:  ['class_0' 'class_1' 'class_2']\n"
     ]
    }
   ],
   "source": [
    "#Import scikit-learn dataset library\n",
    "from sklearn import datasets\n",
    "\n",
    "#Load dataset\n",
    "wine = datasets.load_wine()\n",
    "\n",
    "# print the names of the 13 features\n",
    "print(\"Features: \", wine.feature_names)\n",
    "\n",
    "# print the label type of wine(class_0, class_1, class_2)\n",
    "print(\"Labels: \", wine.target_names)"
   ]
  },
  {
   "cell_type": "code",
   "execution_count": 6,
   "metadata": {
    "colab": {},
    "colab_type": "code",
    "id": "7Z532EeSloYP",
    "outputId": "c395f6c4-9bdc-4e0c-91a6-25a670ab51af"
   },
   "outputs": [
    {
     "data": {
      "text/plain": [
       "(178, 13)"
      ]
     },
     "execution_count": 6,
     "metadata": {},
     "output_type": "execute_result"
    }
   ],
   "source": [
    "wine.data.shape"
   ]
  },
  {
   "cell_type": "code",
   "execution_count": 7,
   "metadata": {
    "colab": {},
    "colab_type": "code",
    "id": "LgNOD67NloYU",
    "outputId": "e228b289-4301-421c-85d0-c4d0cb645db7"
   },
   "outputs": [
    {
     "data": {
      "text/plain": [
       "array([[1.423e+01, 1.710e+00, 2.430e+00, 1.560e+01, 1.270e+02, 2.800e+00,\n",
       "        3.060e+00, 2.800e-01, 2.290e+00, 5.640e+00, 1.040e+00, 3.920e+00,\n",
       "        1.065e+03],\n",
       "       [1.320e+01, 1.780e+00, 2.140e+00, 1.120e+01, 1.000e+02, 2.650e+00,\n",
       "        2.760e+00, 2.600e-01, 1.280e+00, 4.380e+00, 1.050e+00, 3.400e+00,\n",
       "        1.050e+03],\n",
       "       [1.316e+01, 2.360e+00, 2.670e+00, 1.860e+01, 1.010e+02, 2.800e+00,\n",
       "        3.240e+00, 3.000e-01, 2.810e+00, 5.680e+00, 1.030e+00, 3.170e+00,\n",
       "        1.185e+03],\n",
       "       [1.437e+01, 1.950e+00, 2.500e+00, 1.680e+01, 1.130e+02, 3.850e+00,\n",
       "        3.490e+00, 2.400e-01, 2.180e+00, 7.800e+00, 8.600e-01, 3.450e+00,\n",
       "        1.480e+03],\n",
       "       [1.324e+01, 2.590e+00, 2.870e+00, 2.100e+01, 1.180e+02, 2.800e+00,\n",
       "        2.690e+00, 3.900e-01, 1.820e+00, 4.320e+00, 1.040e+00, 2.930e+00,\n",
       "        7.350e+02]])"
      ]
     },
     "execution_count": 7,
     "metadata": {},
     "output_type": "execute_result"
    }
   ],
   "source": [
    "wine.data[0:5]"
   ]
  },
  {
   "cell_type": "code",
   "execution_count": 8,
   "metadata": {
    "colab": {},
    "colab_type": "code",
    "id": "DXd_5ll4loYY",
    "outputId": "d2b9ccbc-dc52-43bc-b2dc-a5f24bdace21"
   },
   "outputs": [
    {
     "data": {
      "text/plain": [
       "array([0, 0, 0, 0, 0, 0, 0, 0, 0, 0, 0, 0, 0, 0, 0, 0, 0, 0, 0, 0, 0, 0,\n",
       "       0, 0, 0, 0, 0, 0, 0, 0, 0, 0, 0, 0, 0, 0, 0, 0, 0, 0, 0, 0, 0, 0,\n",
       "       0, 0, 0, 0, 0, 0, 0, 0, 0, 0, 0, 0, 0, 0, 0, 1, 1, 1, 1, 1, 1, 1,\n",
       "       1, 1, 1, 1, 1, 1, 1, 1, 1, 1, 1, 1, 1, 1, 1, 1, 1, 1, 1, 1, 1, 1,\n",
       "       1, 1, 1, 1, 1, 1, 1, 1, 1, 1, 1, 1, 1, 1, 1, 1, 1, 1, 1, 1, 1, 1,\n",
       "       1, 1, 1, 1, 1, 1, 1, 1, 1, 1, 1, 1, 1, 1, 1, 1, 1, 1, 1, 1, 2, 2,\n",
       "       2, 2, 2, 2, 2, 2, 2, 2, 2, 2, 2, 2, 2, 2, 2, 2, 2, 2, 2, 2, 2, 2,\n",
       "       2, 2, 2, 2, 2, 2, 2, 2, 2, 2, 2, 2, 2, 2, 2, 2, 2, 2, 2, 2, 2, 2,\n",
       "       2, 2])"
      ]
     },
     "execution_count": 8,
     "metadata": {},
     "output_type": "execute_result"
    }
   ],
   "source": [
    "wine.target"
   ]
  },
  {
   "cell_type": "markdown",
   "metadata": {
    "colab_type": "text",
    "id": "vghS0XAzloYb"
   },
   "source": [
    "### 데이터 나누기\n",
    "데이터를 train 데이터와 test 데이터로 나눈다."
   ]
  },
  {
   "cell_type": "code",
   "execution_count": 9,
   "metadata": {
    "colab": {},
    "colab_type": "code",
    "id": "A22w55D5loYc"
   },
   "outputs": [],
   "source": [
    "# Import train_test_split function\n",
    "from sklearn.model_selection import train_test_split\n",
    "\n",
    "# Split dataset into training set and test set\n",
    "X_train, X_test, y_train, y_test = train_test_split(wine.data, wine.target, test_size=0.3, random_state=109)"
   ]
  },
  {
   "cell_type": "markdown",
   "metadata": {
    "colab_type": "text",
    "id": "lNwqI8bMloYf"
   },
   "source": [
    "### 모형의 생성, 훈련\n",
    "\n",
    "가우시안 나이브 베이즈 모형을 사용하여 와인 데이터 분류 모형을 만들어 훈련한다.  \n"
   ]
  },
  {
   "cell_type": "code",
   "execution_count": 10,
   "metadata": {
    "colab": {},
    "colab_type": "code",
    "id": "1UIZXRDcloYg"
   },
   "outputs": [],
   "source": [
    "#Import Gaussian Naive Bayes model\n",
    "from sklearn.naive_bayes import GaussianNB\n",
    "\n",
    "#Create a Gaussian Classifier\n",
    "gnb = GaussianNB()\n",
    "\n",
    "#Train the model \n",
    "gnb.fit(X_train, y_train)\n",
    "\n",
    "#Predict\n",
    "y_pred = gnb.predict(X_test)"
   ]
  },
  {
   "cell_type": "markdown",
   "metadata": {
    "colab_type": "text",
    "id": "9cF5wUE0loYj"
   },
   "source": [
    "나이브베이즈 모형에서 predict_proba를 사용하면 각 클래스에 대한 예측 확률값을 출력한다."
   ]
  },
  {
   "cell_type": "code",
   "execution_count": 11,
   "metadata": {
    "colab": {},
    "colab_type": "code",
    "id": "xghXvMWTloYk",
    "outputId": "0448365c-2348-4192-87fd-2fb9d508e85b"
   },
   "outputs": [
    {
     "name": "stdout",
     "output_type": "stream",
     "text": [
      "[[0.   1.   0.   0.  ]\n",
      " [0.   0.55 0.45 0.  ]\n",
      " [1.   0.   1.   0.  ]\n",
      " [2.   0.   0.   1.  ]\n",
      " [0.   1.   0.   0.  ]\n",
      " [1.   0.23 0.77 0.  ]\n",
      " [0.   1.   0.   0.  ]\n",
      " [0.   1.   0.   0.  ]\n",
      " [1.   0.   1.   0.  ]\n",
      " [0.   1.   0.   0.  ]\n",
      " [2.   0.   0.44 0.56]\n",
      " [2.   0.   0.18 0.82]\n",
      " [2.   0.   0.   1.  ]\n",
      " [2.   0.   0.   1.  ]\n",
      " [0.   1.   0.   0.  ]\n",
      " [1.   0.   1.   0.  ]\n",
      " [1.   0.   1.   0.  ]\n",
      " [0.   1.   0.   0.  ]\n",
      " [0.   1.   0.   0.  ]\n",
      " [1.   0.   0.97 0.03]\n",
      " [2.   0.   0.   1.  ]\n",
      " [1.   0.   1.   0.  ]\n",
      " [0.   1.   0.   0.  ]\n",
      " [2.   0.   0.   1.  ]\n",
      " [0.   1.   0.   0.  ]\n",
      " [0.   1.   0.   0.  ]\n",
      " [1.   0.   1.   0.  ]\n",
      " [2.   0.   0.   1.  ]\n",
      " [0.   1.   0.   0.  ]\n",
      " [1.   0.   1.   0.  ]\n",
      " [2.   0.   0.   1.  ]\n",
      " [1.   0.   1.   0.  ]\n",
      " [1.   0.   1.   0.  ]\n",
      " [0.   1.   0.   0.  ]\n",
      " [1.   0.   1.   0.  ]\n",
      " [1.   0.   0.95 0.05]\n",
      " [0.   1.   0.   0.  ]\n",
      " [2.   0.   0.   1.  ]\n",
      " [2.   0.   0.   1.  ]\n",
      " [0.   1.   0.   0.  ]\n",
      " [2.   0.   0.   1.  ]\n",
      " [1.   0.04 0.96 0.  ]\n",
      " [0.   1.   0.   0.  ]\n",
      " [0.   1.   0.   0.  ]\n",
      " [0.   1.   0.   0.  ]\n",
      " [2.   0.   0.   1.  ]\n",
      " [2.   0.   0.   1.  ]\n",
      " [0.   1.   0.   0.  ]\n",
      " [1.   0.   1.   0.  ]\n",
      " [1.   0.   1.   0.  ]\n",
      " [2.   0.   0.   1.  ]\n",
      " [0.   0.92 0.08 0.  ]\n",
      " [0.   1.   0.   0.  ]\n",
      " [2.   0.   0.   1.  ]]\n"
     ]
    }
   ],
   "source": [
    "prob = np.round(gnb.predict_proba(X_test),2)\n",
    "\n",
    "print(np.hstack((y_pred.reshape(-1,1),prob)))"
   ]
  },
  {
   "cell_type": "markdown",
   "metadata": {
    "colab_type": "text",
    "id": "SgJhc-mhloYo"
   },
   "source": [
    "### 모형의 정확도 평가\n",
    "테스트 데이터로 모형을 평가하고 정확도를 출력한다."
   ]
  },
  {
   "cell_type": "code",
   "execution_count": 12,
   "metadata": {
    "colab": {},
    "colab_type": "code",
    "id": "QU4GxgyEloYo",
    "outputId": "cc56ccf2-d303-436b-bdd3-e2cc5ec5f4fd"
   },
   "outputs": [
    {
     "name": "stdout",
     "output_type": "stream",
     "text": [
      "Accuracy: 0.9074074074074074\n"
     ]
    }
   ],
   "source": [
    "#Import scikit-learn metrics module for accuracy calculation\n",
    "from sklearn import metrics\n",
    "\n",
    "# Model Accuracy\n",
    "print(\"Accuracy:\", metrics.accuracy_score(y_test, y_pred))"
   ]
  },
  {
   "cell_type": "markdown",
   "metadata": {
    "colab_type": "text",
    "id": "LUI0BXXFloYs"
   },
   "source": [
    "### 실습\n",
    "\n",
    "1. 가우시안 나이브 베이즈(GaussianNB)를 다항분포 나이브 베이즈(MultinomialNB)로 바꾸어 모형을 생성하고 정확도(accuracy)와 분류 확률(predict_proba)을 출력해 보시오."
   ]
  },
  {
   "cell_type": "code",
   "execution_count": null,
   "metadata": {},
   "outputs": [],
   "source": []
  }
 ],
 "metadata": {
  "colab": {
   "name": "NaiveBayes.ipynb",
   "provenance": []
  },
  "kernelspec": {
   "display_name": "Python 3",
   "language": "python",
   "name": "python3"
  },
  "language_info": {
   "codemirror_mode": {
    "name": "ipython",
    "version": 3
   },
   "file_extension": ".py",
   "mimetype": "text/x-python",
   "name": "python",
   "nbconvert_exporter": "python",
   "pygments_lexer": "ipython3",
   "version": "3.7.6"
  }
 },
 "nbformat": 4,
 "nbformat_minor": 1
}
