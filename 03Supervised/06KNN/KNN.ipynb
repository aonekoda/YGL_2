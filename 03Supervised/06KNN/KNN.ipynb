{
 "cells": [
  {
   "cell_type": "markdown",
   "metadata": {
    "colab_type": "text",
    "id": "HpyUAD89l35F"
   },
   "source": [
    "# KNN 분류기\n",
    "\n",
    "k-NN(k-Nearest Neighbors) 알고리즘은 가장 간단한 머신러닝 알고리즘이다.\n",
    "\n",
    "KNN에서 K는 가장 가까운 이웃의 수입니다. 이웃의 수는 핵심 결정 요인이다. 분류하고자 하는 데이터에서 가장 가까운 k 개의 이웃점을 찾은 다음 k 개의 이웃에 대한 과반수 투표로 해당 데이터를 분류한다.  가장 유사한 점을 찾기 위해서 \"거리\"를 사용한다.\n",
    "\n",
    "* 장점 : KNN은 비선형 분류 경계를 가지는 데이터의 경우 유용 하다.\n",
    "* 단점 : 고차원 데이터에서  시간과 메모리 측면에서 더 느리고 비용이 많이 든다.\n",
    "![knn](./knn.png)"
   ]
  },
  {
   "cell_type": "markdown",
   "metadata": {
    "colab_type": "text",
    "id": "xWFnqObjl35G"
   },
   "source": [
    "### KNN으로 와인데이터 분류\n",
    "\n",
    "사이킷런에서 제공하는 wine.data에는 이 데이터에는 'class_0', 'class_1'및 'class_2'의 세 가지 유형의 품종 클래스가 있다. KNN 알고리즘으로 클래스를 분류하는 분류 모형을 생성한다."
   ]
  },
  {
   "cell_type": "code",
   "execution_count": null,
   "metadata": {
    "colab": {},
    "colab_type": "code",
    "id": "6PvdNSS-l35H"
   },
   "outputs": [],
   "source": [
    "#Import scikit-learn dataset library\n",
    "from sklearn import datasets\n",
    "\n",
    "#Load dataset\n",
    "wine = datasets.load_wine()"
   ]
  },
  {
   "cell_type": "code",
   "execution_count": null,
   "metadata": {
    "colab": {},
    "colab_type": "code",
    "id": "OVTnW4Vkl35L",
    "outputId": "ac2640f7-9e2a-4673-9a2d-ac720f8fe422"
   },
   "outputs": [
    {
     "name": "stdout",
     "output_type": "stream",
     "text": [
      "와인데이터 속성(13개): ['alcohol', 'malic_acid', 'ash', 'alcalinity_of_ash', 'magnesium', 'total_phenols', 'flavanoids', 'nonflavanoid_phenols', 'proanthocyanins', 'color_intensity', 'hue', 'od280/od315_of_diluted_wines', 'proline']\n",
      "와인데이터 클래스(3개): ['class_0' 'class_1' 'class_2']\n",
      "Target Label(0:Class_0, 1:Class_1, 2:Class_3):\n",
      " [0 0 0 0 0 0 0 0 0 0 0 0 0 0 0 0 0 0 0 0 0 0 0 0 0 0 0 0 0 0 0 0 0 0 0 0 0\n",
      " 0 0 0 0 0 0 0 0 0 0 0 0 0 0 0 0 0 0 0 0 0 0 1 1 1 1 1 1 1 1 1 1 1 1 1 1 1\n",
      " 1 1 1 1 1 1 1 1 1 1 1 1 1 1 1 1 1 1 1 1 1 1 1 1 1 1 1 1 1 1 1 1 1 1 1 1 1\n",
      " 1 1 1 1 1 1 1 1 1 1 1 1 1 1 1 1 1 1 1 2 2 2 2 2 2 2 2 2 2 2 2 2 2 2 2 2 2\n",
      " 2 2 2 2 2 2 2 2 2 2 2 2 2 2 2 2 2 2 2 2 2 2 2 2 2 2 2 2 2 2]\n"
     ]
    }
   ],
   "source": [
    "# 와인데이터 속성\n",
    "print('와인데이터 속성(13개):', wine.feature_names)\n",
    "# 와인데이터 클래스(label)\n",
    "print('와인데이터 클래스(3개):',wine.target_names)\n",
    "# labels (0:Class_0, 1:Class_1, 2:Class_3)\n",
    "print('Target Label(0:Class_0, 1:Class_1, 2:Class_3):\\n', wine.target)"
   ]
  },
  {
   "cell_type": "markdown",
   "metadata": {
    "colab_type": "text",
    "id": "jJ1gJIn-l35P"
   },
   "source": [
    "### 데이터 분할\n",
    "데이터 세트를 훈련 세트와 테스트 세트로 나눈다."
   ]
  },
  {
   "cell_type": "code",
   "execution_count": null,
   "metadata": {
    "colab": {},
    "colab_type": "code",
    "id": "5_m40Wful35Q"
   },
   "outputs": [],
   "source": [
    "# Import train_test_split function\n",
    "from sklearn.model_selection import train_test_split\n",
    "\n",
    "# Split dataset into training set and test set\n",
    "X_train, X_test, y_train, y_test = train_test_split(wine.data, wine.target, test_size=0.3, random_state=0) \n",
    "# 70% training and 30% test"
   ]
  },
  {
   "cell_type": "markdown",
   "metadata": {
    "colab_type": "text",
    "id": "pHUd5fK8l35T"
   },
   "source": [
    "###  K의 갯수(이웃의 수) 정하기\n",
    "모든 종류의 데이터 세트에 적합한 최적의 이웃 수를 특정할 수 없다. 각 데이터 집합의 특징에 따라 적절한 K의 수를 정하는 것이 중요하다. \n",
    "* 이웃 수가 적을 경우 : 노이즈가 결과에 더 큰 영향을 미치게 된다. 유연하게 적합하며 편향이 적고 분산이 높아 과적합될 수 있다.\n",
    "* 이웃 수가 많을 경우 : 대량의 데이터에서 계산 비용이 많이 든다. 이웃 수가 많을수록 결정 경계가 더 매끄러워지며, 분산이 적고 편향이 높아진다(과소적합)."
   ]
  },
  {
   "cell_type": "markdown",
   "metadata": {
    "colab_type": "text",
    "id": "1jaJnMsxl35T"
   },
   "source": [
    "### K=3 인 경우"
   ]
  },
  {
   "cell_type": "code",
   "execution_count": null,
   "metadata": {
    "colab": {},
    "colab_type": "code",
    "id": "c0axqwxzl35U"
   },
   "outputs": [],
   "source": [
    "#Import knearest neighbors Classifier model\n",
    "from sklearn.neighbors import KNeighborsClassifier\n",
    "\n",
    "#Create KNN Classifier\n",
    "knn = KNeighborsClassifier(n_neighbors=3)\n",
    "\n",
    "#Train the model using the training sets\n",
    "knn.fit(X_train, y_train)\n",
    "\n",
    "#Predict the response for test dataset\n",
    "y_pred = knn.predict(X_test)"
   ]
  },
  {
   "cell_type": "markdown",
   "metadata": {
    "colab_type": "text",
    "id": "3ZfHxacWl35X"
   },
   "source": [
    "### K=3 인 경우 모형의 정확도"
   ]
  },
  {
   "cell_type": "code",
   "execution_count": null,
   "metadata": {
    "colab": {},
    "colab_type": "code",
    "id": "0yHpf9bPl35Y",
    "outputId": "ea05f977-c96a-425a-9716-4d1a4e3f6bed"
   },
   "outputs": [
    {
     "name": "stdout",
     "output_type": "stream",
     "text": [
      "Accuracy: 0.7037037037037037\n"
     ]
    }
   ],
   "source": [
    "#Import scikit-learn metrics module for accuracy calculation\n",
    "from sklearn import metrics\n",
    "# Model Accuracy, how often is the classifier correct?\n",
    "print(\"Accuracy:\",metrics.accuracy_score(y_test, y_pred))"
   ]
  },
  {
   "cell_type": "markdown",
   "metadata": {
    "colab_type": "text",
    "id": "FPEPzVEbl35f"
   },
   "source": [
    "### K = 7인경우"
   ]
  },
  {
   "cell_type": "code",
   "execution_count": null,
   "metadata": {
    "colab": {},
    "colab_type": "code",
    "id": "U1B8FV0El35g"
   },
   "outputs": [],
   "source": [
    "#Import knearest neighbors Classifier model\n",
    "from sklearn.neighbors import KNeighborsClassifier\n",
    "\n",
    "#Create KNN Classifier\n",
    "knn = KNeighborsClassifier(n_neighbors=7)\n",
    "\n",
    "#Train the model using the training sets\n",
    "knn.fit(X_train, y_train)\n",
    "\n",
    "#Predict the response for test dataset\n",
    "y_pred = knn.predict(X_test)"
   ]
  },
  {
   "cell_type": "markdown",
   "metadata": {
    "colab_type": "text",
    "id": "GVf0Eqorl35l"
   },
   "source": [
    "### K=7인 경우 모형의 정확도"
   ]
  },
  {
   "cell_type": "code",
   "execution_count": null,
   "metadata": {
    "colab": {},
    "colab_type": "code",
    "id": "EgNcbK1ll35m",
    "outputId": "2c25d014-50bd-439d-e5a4-c49f2d567eda"
   },
   "outputs": [
    {
     "name": "stdout",
     "output_type": "stream",
     "text": [
      "Accuracy: 0.7777777777777778\n"
     ]
    }
   ],
   "source": [
    "#Import scikit-learn metrics module for accuracy calculation\n",
    "from sklearn import metrics\n",
    "# Model Accuracy, how often is the classifier correct?\n",
    "print(\"Accuracy:\",metrics.accuracy_score(y_test, y_pred))"
   ]
  },
  {
   "cell_type": "markdown",
   "metadata": {
    "colab_type": "text",
    "id": "1Mn7k8KLl35q"
   },
   "source": [
    "와인데이터의 경우, K=7로 했을 때 모형의 정확도가 개선되었다."
   ]
  },
  {
   "cell_type": "markdown",
   "metadata": {
    "colab_type": "text",
    "id": "7pLnRMErl35r"
   },
   "source": [
    "## 실습\n",
    "1. K의 갯수를 줄이거나 늘려보면서 정확도를 확인해 보시오.\n",
    "\n",
    "2. 더 나은 결과를 얻으려면 동일한 규모로 데이터의 스케일을 조정하는 것이 좋다. 데이터의 스케일을 표준화/정규화 하여 더나은 정확도를 얻을 수 있도록 실습 하시오."
   ]
  }
 ],
 "metadata": {
  "colab": {
   "name": "KNN.ipynb",
   "provenance": []
  },
  "kernelspec": {
   "display_name": "Python 3",
   "language": "python",
   "name": "python3"
  },
  "language_info": {
   "codemirror_mode": {
    "name": "ipython",
    "version": 3
   },
   "file_extension": ".py",
   "mimetype": "text/x-python",
   "name": "python",
   "nbconvert_exporter": "python",
   "pygments_lexer": "ipython3",
   "version": "3.7.6"
  }
 },
 "nbformat": 4,
 "nbformat_minor": 1
}
