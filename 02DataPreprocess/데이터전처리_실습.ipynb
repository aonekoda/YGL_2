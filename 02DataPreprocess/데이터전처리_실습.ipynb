{
 "cells": [
  {
   "cell_type": "markdown",
   "metadata": {
    "colab_type": "text",
    "id": "HfoJcGcsttAi"
   },
   "source": [
    "# 데이터 전처리 실습\n",
    "\n",
    "타이타닉 데이터셋으로 데이터 전처리를 실습해 보자.\n",
    "* 결측치 처리하기\n",
    "* 데이터 스케일 조정\n",
    "* 범주형 데이터 처리하기"
   ]
  },
  {
   "cell_type": "markdown",
   "metadata": {
    "colab_type": "text",
    "id": "t9cgGrRtubZR"
   },
   "source": [
    "1, 타이타닉 데이터 셋을 읽어 들인다. \n",
    "```\n",
    "import pandas as pd\n",
    "\n",
    "titanic = pd.read_csv('../data/titanic.csv')\n",
    "titanic.head()\n",
    "```"
   ]
  },
  {
   "cell_type": "code",
   "execution_count": null,
   "metadata": {
    "colab": {},
    "colab_type": "code",
    "id": "iK0B4GO01bHR"
   },
   "outputs": [],
   "source": []
  },
  {
   "cell_type": "markdown",
   "metadata": {
    "colab_type": "text",
    "id": "dT79rhPSvMk1"
   },
   "source": [
    "2. 'Age' 컬럼의 결측치가 총 몇 건인가?"
   ]
  },
  {
   "cell_type": "code",
   "execution_count": null,
   "metadata": {
    "colab": {},
    "colab_type": "code",
    "id": "4_CuuxT81c6o"
   },
   "outputs": [],
   "source": []
  },
  {
   "cell_type": "markdown",
   "metadata": {
    "colab_type": "text",
    "id": "kMHkN9S6vhLN"
   },
   "source": [
    "3. 'Age'컬럼의 결측치를 중위수(median)으로 대체하시오."
   ]
  },
  {
   "cell_type": "code",
   "execution_count": null,
   "metadata": {
    "colab": {},
    "colab_type": "code",
    "id": "LJgM2EGo1flF"
   },
   "outputs": [],
   "source": []
  },
  {
   "cell_type": "markdown",
   "metadata": {
    "colab_type": "text",
    "id": "MCqCL-xuxvG0"
   },
   "source": [
    "4. 'Fare' 컬럼을 StandardScaler()로 스케일을 조정하시오."
   ]
  },
  {
   "cell_type": "code",
   "execution_count": null,
   "metadata": {
    "colab": {},
    "colab_type": "code",
    "id": "ftJTidto1hYD"
   },
   "outputs": [],
   "source": []
  },
  {
   "cell_type": "markdown",
   "metadata": {
    "colab_type": "text",
    "id": "BFSINOkEzC-P"
   },
   "source": [
    "5. 'Embarked' 컬럼을 원-핫 인코딩으로 변환해 보시오. (hint. pd.get_dummies)"
   ]
  },
  {
   "cell_type": "code",
   "execution_count": null,
   "metadata": {
    "colab": {},
    "colab_type": "code",
    "id": "-YFIXJSl0kJR"
   },
   "outputs": [],
   "source": []
  }
 ],
 "metadata": {
  "colab": {
   "authorship_tag": "ABX9TyOwUm8TlKWRGE4lsO9xMiLu",
   "collapsed_sections": [],
   "mount_file_id": "1CGyodkC4F5Lf6xvi6MRpOhp7rmrySdAZ",
   "name": "데이터전처리_실습.ipynb",
   "provenance": [],
   "toc_visible": true
  },
  "kernelspec": {
   "display_name": "Python 3",
   "language": "python",
   "name": "python3"
  },
  "language_info": {
   "codemirror_mode": {
    "name": "ipython",
    "version": 3
   },
   "file_extension": ".py",
   "mimetype": "text/x-python",
   "name": "python",
   "nbconvert_exporter": "python",
   "pygments_lexer": "ipython3",
   "version": "3.7.6"
  }
 },
 "nbformat": 4,
 "nbformat_minor": 1
}
