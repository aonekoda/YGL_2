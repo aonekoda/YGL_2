{
 "cells": [
  {
   "cell_type": "markdown",
   "metadata": {
    "id": "dNCoOxm_OUei"
   },
   "source": [
    "# 연속형 수치 데이터의 이산형화(Discretize)\n",
    "\n",
    "* 수치적 데이터를 개별적인 구간으로 나눈다.\n",
    "* 이산형화를 통하여 수치 특성을 범주형 데이터로 변환할 수 있다.\n",
    "* 이산형화(discretization)은 연속형 변수를 2개 이상의 범주(category)를 가지는 변수로 변환해주는 것을 말한다.\n"
   ]
  },
  {
   "cell_type": "code",
   "execution_count": 1,
   "metadata": {
    "id": "cDjbgYSuOUe8",
    "scrolled": true
   },
   "outputs": [],
   "source": [
    "import numpy as np\n",
    "import pandas as pd"
   ]
  },
  {
   "cell_type": "code",
   "execution_count": 2,
   "metadata": {
    "id": "LQyR_UGAOUfQ"
   },
   "outputs": [],
   "source": [
    "age = np.array([[6],\n",
    "                [12],\n",
    "                [20],\n",
    "                [36],\n",
    "                [65]\n",
    "               ])"
   ]
  },
  {
   "cell_type": "markdown",
   "metadata": {
    "id": "LeQRUCMDOUfj"
   },
   "source": [
    "### np.digitize()\n",
    "수치적 특성을 여러 임계값에 따라 나누는 방법\n"
   ]
  },
  {
   "cell_type": "code",
   "execution_count": 3,
   "metadata": {
    "id": "6AsABH3TOUfq",
    "outputId": "f1445b50-e888-4d23-8aaa-2ca9f94ce5cd"
   },
   "outputs": [
    {
     "data": {
      "text/plain": [
       "array([[0],\n",
       "       [0],\n",
       "       [1],\n",
       "       [2],\n",
       "       [3]], dtype=int64)"
      ]
     },
     "execution_count": 3,
     "metadata": {},
     "output_type": "execute_result"
    }
   ],
   "source": [
    "np.digitize(age, bins=[20,30,64])"
   ]
  },
  {
   "cell_type": "markdown",
   "metadata": {
    "id": "uVXpCx3AOUgB"
   },
   "source": [
    "* bins 매개변수의 입력값은 각 구간의 왼쪽 경계값이다. \n",
    "* [~ 20), [20, 30), [30, 64) , [64 ~ ) 4개 구간으로 나뉜다.\n",
    "* right = True를 설정하여 변경할 수 있다."
   ]
  },
  {
   "cell_type": "code",
   "execution_count": 4,
   "metadata": {
    "id": "oGcOp4BJOUgD",
    "outputId": "32987453-1a0b-478e-a837-18542ee5245e"
   },
   "outputs": [
    {
     "data": {
      "text/plain": [
       "array([[0],\n",
       "       [0],\n",
       "       [0],\n",
       "       [2],\n",
       "       [3]], dtype=int64)"
      ]
     },
     "execution_count": 4,
     "metadata": {},
     "output_type": "execute_result"
    }
   ],
   "source": [
    "np.digitize(age, bins=[20,30,64], right=True)"
   ]
  },
  {
   "cell_type": "markdown",
   "metadata": {
    "id": "OQ9z2V5FOUgT"
   },
   "source": [
    "### np.where(condition, factor1, factor2, ...)를 이용한 연속형 변수의 이산형화\n"
   ]
  },
  {
   "cell_type": "code",
   "execution_count": 5,
   "metadata": {
    "id": "40_ysxCdOUgV",
    "outputId": "ba07008e-26f6-4735-976a-e839771e6d53"
   },
   "outputs": [
    {
     "data": {
      "text/plain": [
       "array(['low', 'low', 'low', 'low', 'low', 'low', 'low', 'low', 'low',\n",
       "       'low', 'low', 'low', 'low', 'low', 'low', 'low', 'low', 'low',\n",
       "       'low', 'low', 'low', 'low', 'low', 'low', 'low', 'low', 'low',\n",
       "       'low', 'low', 'low', 'low', 'low', 'low', 'low', 'low', 'low',\n",
       "       'low', 'low', 'low', 'low', 'low', 'low', 'low', 'low', 'low',\n",
       "       'low', 'low', 'low', 'low', 'low', 'high', 'high', 'high', 'high',\n",
       "       'high', 'high', 'high', 'high', 'high', 'high', 'high', 'high',\n",
       "       'high', 'high', 'high', 'high', 'high', 'high', 'high', 'high',\n",
       "       'high', 'high', 'high', 'high', 'high', 'high', 'high', 'high',\n",
       "       'high', 'high', 'high', 'high', 'high', 'high', 'high', 'high',\n",
       "       'high', 'high', 'high', 'high', 'high', 'high', 'high', 'high',\n",
       "       'high', 'high', 'high', 'high', 'high', 'high'], dtype='<U4')"
      ]
     },
     "execution_count": 5,
     "metadata": {},
     "output_type": "execute_result"
    }
   ],
   "source": [
    "x = np.arange(100)\n",
    "np.where(x >= x.mean(), 'high', 'low')\n"
   ]
  },
  {
   "cell_type": "markdown",
   "metadata": {
    "id": "otZMTx7POUgi"
   },
   "source": [
    "### sklearn.preprocessing.Binarizer()\n",
    "sklearn.preprocessing.Binarizer()를 사용해서 연속형 변수를 특정 기준값 이하(equal or less the threshold)이면 '0', 특정 기준값 초과(above the threshold)이면 '1'의 두 개의 값만을 가지는 변수로 변환하는 방법"
   ]
  },
  {
   "cell_type": "code",
   "execution_count": 6,
   "metadata": {
    "id": "8csllG7WOUgl"
   },
   "outputs": [],
   "source": [
    "from sklearn.preprocessing import Binarizer"
   ]
  },
  {
   "cell_type": "code",
   "execution_count": 7,
   "metadata": {
    "id": "r6rYrX-6OUg2",
    "outputId": "ba125555-78c0-4ffd-8f7a-424bb56b985f"
   },
   "outputs": [
    {
     "data": {
      "text/plain": [
       "array([[0],\n",
       "       [0],\n",
       "       [0],\n",
       "       [1],\n",
       "       [1]])"
      ]
     },
     "execution_count": 7,
     "metadata": {},
     "output_type": "execute_result"
    }
   ],
   "source": [
    "# 20을 기준으로 데이터를 2개 범주로 나눈다.\n",
    "binarizer = Binarizer(threshold=20)  \n",
    "binarizer.fit_transform(age)"
   ]
  },
  {
   "cell_type": "markdown",
   "metadata": {
    "id": "3MgAL0BOOUhV"
   },
   "source": [
    "### sklearn.preprocessing.KBinsDiscretizer() - New in version 0.20.\n",
    "연속적인 특성값을 여러 구간으로 나누어 준다. 나눌 구간 개수를 지정한다. \n",
    "\n",
    "* encode : \n",
    "    * 기본값은 'onehot'으로 one-hot encode된 희소행렬을 리턴한다. \n",
    "    * 'onehot-dense'는 밀집 배열을 리턴한다. \n",
    "    * 'ordinal'은 순차적 범주값을 리턴한다. \n",
    "* strategy :\n",
    "    * 'quantile': 각 구간에 포함된 데이터 갯수가 서로 비슷하도록 만든다.\n",
    "    * 'uniform': 구간의 폭이 동일하도록 만든다.\n",
    "* 구간의 값은 bin_edges_ 속성으로 확인할 수 있다."
   ]
  },
  {
   "cell_type": "code",
   "execution_count": 8,
   "metadata": {
    "id": "5sO6Sn4QOUhY"
   },
   "outputs": [],
   "source": [
    "from sklearn.preprocessing import KBinsDiscretizer"
   ]
  },
  {
   "cell_type": "code",
   "execution_count": 9,
   "metadata": {
    "id": "uSdHGbLLOUhm",
    "outputId": "51d3d006-f2c3-4f6b-8bce-684085bfd8b3"
   },
   "outputs": [
    {
     "data": {
      "text/plain": [
       "array([[0.],\n",
       "       [1.],\n",
       "       [2.],\n",
       "       [3.],\n",
       "       [3.]])"
      ]
     },
     "execution_count": 9,
     "metadata": {},
     "output_type": "execute_result"
    }
   ],
   "source": [
    "kb = KBinsDiscretizer(4, encode='ordinal', strategy='quantile')\n",
    "\n",
    "kb.fit_transform(age)"
   ]
  },
  {
   "cell_type": "code",
   "execution_count": 10,
   "metadata": {
    "id": "tqxZzWbAOUh2",
    "outputId": "f4b37a2f-775c-47fb-97bd-5b29dab02166"
   },
   "outputs": [
    {
     "data": {
      "text/plain": [
       "array([[1., 0., 0., 0.],\n",
       "       [0., 1., 0., 0.],\n",
       "       [0., 0., 1., 0.],\n",
       "       [0., 0., 0., 1.],\n",
       "       [0., 0., 0., 1.]])"
      ]
     },
     "execution_count": 10,
     "metadata": {},
     "output_type": "execute_result"
    }
   ],
   "source": [
    "kb = KBinsDiscretizer(4, encode='onehot-dense', strategy='quantile')\n",
    "\n",
    "kb.fit_transform(age)"
   ]
  },
  {
   "cell_type": "code",
   "execution_count": 11,
   "metadata": {
    "id": "0cBKTExYOUiE",
    "outputId": "205aa1e6-3c28-404d-b9a7-b102bba5e427"
   },
   "outputs": [
    {
     "data": {
      "text/plain": [
       "array([[1., 0., 0., 0.],\n",
       "       [1., 0., 0., 0.],\n",
       "       [1., 0., 0., 0.],\n",
       "       [0., 0., 1., 0.],\n",
       "       [0., 0., 0., 1.]])"
      ]
     },
     "execution_count": 11,
     "metadata": {},
     "output_type": "execute_result"
    }
   ],
   "source": [
    "kb = KBinsDiscretizer(4, encode='onehot-dense', strategy='uniform')\n",
    "\n",
    "kb.fit_transform(age)"
   ]
  },
  {
   "cell_type": "code",
   "execution_count": 12,
   "metadata": {
    "id": "3ZvMbSYrOUiZ",
    "outputId": "213ca95a-0278-41a3-d5b7-3cd9ba656775"
   },
   "outputs": [
    {
     "data": {
      "text/plain": [
       "array([array([ 6.  , 20.75, 35.5 , 50.25, 65.  ])], dtype=object)"
      ]
     },
     "execution_count": 12,
     "metadata": {},
     "output_type": "execute_result"
    }
   ],
   "source": [
    "# 구간의 값\n",
    "kb.bin_edges_"
   ]
  },
  {
   "cell_type": "code",
   "execution_count": null,
   "metadata": {
    "id": "4yubemT5O9bX"
   },
   "outputs": [],
   "source": []
  },
  {
   "cell_type": "markdown",
   "metadata": {
    "id": "V_MUPBRiOtIP"
   },
   "source": [
    "# 연속형 수치 데이터의 이산형화(Discretize)\n",
    "\n",
    "* 수치적 데이터를 개별적인 구간으로 나눈다.\n",
    "* 이산형화를 통하여 수치 특성을 범주형 데이터로 변환할 수 있다.\n",
    "* 이산형화(discretization)은 연속형 변수를 2개 이상의 범주(category)를 가지는 변수로 변환해주는 것을 말한다.\n"
   ]
  },
  {
   "cell_type": "markdown",
   "metadata": {
    "id": "7FHEgzofOtIS"
   },
   "source": [
    "## Binning\n",
    "\n",
    "수치형 데이터를 범주형 데이터로 변환할 수 있다.  숫자데이터를 카테고리화 하는 기능을 가지고 있다.\n",
    "* pd.cut() : 나누는 구간의 경계값을 지정하여 구간을 나눈다.\n",
    "* pd.qcut() : 구간 경계선을 지정하지 않고 데이터 갯수가 같도록 지정한 수의 구간으로 나눈다. \n",
    "\n"
   ]
  },
  {
   "cell_type": "code",
   "execution_count": 13,
   "metadata": {
    "id": "0dHRYMvyOtIV"
   },
   "outputs": [],
   "source": [
    "ages = [20, 22, 25, 27, 21, 23, 37, 31, 61, 45, 41, 32]\n",
    "bins = [18, 25, 35, 60, 100]"
   ]
  },
  {
   "cell_type": "markdown",
   "metadata": {
    "id": "HpbjKZW6OtIq"
   },
   "source": [
    "### pd.cut() - 동일 길이로 나누어서 범주 만들기(equal-length buckets categorization)\n",
    "\n",
    "* pd.cut()함수는 인자로 (카테고리화 숫자데이터, 구간의 구분값)를 넣어 쉽게 카테고리화 할 수 있다.\n",
    "* pd.cut()함수로 잘린 데이터는 카테고리 자료형 Series로 반환되게 된다.\n"
   ]
  },
  {
   "cell_type": "markdown",
   "metadata": {
    "id": "78b0cGR3OtIs"
   },
   "source": [
    "ages가 5개의 구간 분값에 의해 4구간의 카테고리 자료형으로 반환된다."
   ]
  },
  {
   "cell_type": "code",
   "execution_count": 14,
   "metadata": {
    "id": "RRL3xkgAOtIu",
    "outputId": "5099fc8d-2f3e-446b-ab08-2148b8183675"
   },
   "outputs": [
    {
     "data": {
      "text/plain": [
       "[(18, 25], (18, 25], (18, 25], (25, 35], (18, 25], ..., (25, 35], (60, 100], (35, 60], (35, 60], (25, 35]]\n",
       "Length: 12\n",
       "Categories (4, interval[int64]): [(18, 25] < (25, 35] < (35, 60] < (60, 100]]"
      ]
     },
     "execution_count": 14,
     "metadata": {},
     "output_type": "execute_result"
    }
   ],
   "source": [
    "# 18 ~ 25 / 25 ~ 35 / 35 ~ 60 / 60 ~ 100 이렇게 총 4구간\n",
    "cats = pd.cut(ages,bins)\n",
    "cats"
   ]
  },
  {
   "cell_type": "markdown",
   "metadata": {
    "id": "sMaWrDXGOtI5"
   },
   "source": [
    "cats.codes 를 통해, ages의 각 성분이 몇번째 구간에 속해있는지 정수index처럼 표시되는 것을 알 수 있다.  \n",
    " 20은 0=첫번째 구간에, 27은 1=두번째 구간에 속한다는 것을 알 수 있다."
   ]
  },
  {
   "cell_type": "code",
   "execution_count": 15,
   "metadata": {
    "id": "hzkgHW8eOtI8",
    "outputId": "ec254a18-3065-4808-90e6-628278c72875"
   },
   "outputs": [
    {
     "data": {
      "text/plain": [
       "array([0, 0, 0, 1, 0, 0, 2, 1, 3, 2, 2, 1], dtype=int8)"
      ]
     },
     "execution_count": 15,
     "metadata": {},
     "output_type": "execute_result"
    }
   ],
   "source": [
    "cats.codes"
   ]
  },
  {
   "cell_type": "markdown",
   "metadata": {
    "id": "kIfkyM-AOtJI"
   },
   "source": [
    "cats.value_counts() 를 통해서, 값x 각 구간에 따른 성분의 갯수를 확인할 수 있다.  \n",
    "value_counts()는 카테고리 자료형(Series)에서 각 구간에 속한 성분의 갯수도 파악할 수 있다."
   ]
  },
  {
   "cell_type": "code",
   "execution_count": 16,
   "metadata": {
    "id": "y7N387quOtJK",
    "outputId": "c4b49553-2e1f-4cb7-ee6d-790d8deb9475"
   },
   "outputs": [
    {
     "data": {
      "text/plain": [
       "(18, 25]     5\n",
       "(25, 35]     3\n",
       "(35, 60]     3\n",
       "(60, 100]    1\n",
       "dtype: int64"
      ]
     },
     "execution_count": 16,
     "metadata": {},
     "output_type": "execute_result"
    }
   ],
   "source": [
    "cats.value_counts()"
   ]
  },
  {
   "cell_type": "markdown",
   "metadata": {
    "id": "PUhpslVPOtJU"
   },
   "source": [
    " pd.cut()을 호출시, labes = [ 리스트]형식으로 인자를 추가하면 각 카테고리명을 직접 지정해 줄 수 있다."
   ]
  },
  {
   "cell_type": "code",
   "execution_count": 17,
   "metadata": {
    "id": "WPdctLtoOtJW",
    "outputId": "94283a07-1902-479d-b286-440e3756a104"
   },
   "outputs": [
    {
     "data": {
      "text/plain": [
       "['Youth', 'Youth', 'Youth', 'YoungAdult', 'Youth', ..., 'YoungAdult', 'Senior', 'MiddleAged', 'MiddleAged', 'YoungAdult']\n",
       "Length: 12\n",
       "Categories (4, object): ['Youth' < 'YoungAdult' < 'MiddleAged' < 'Senior']"
      ]
     },
     "execution_count": 17,
     "metadata": {},
     "output_type": "execute_result"
    }
   ],
   "source": [
    "group_names = [\"Youth\", \"YoungAdult\", \"MiddleAged\", \"Senior\"]\n",
    "\n",
    "pd.cut(ages, bins, labels= group_names)"
   ]
  },
  {
   "cell_type": "markdown",
   "metadata": {
    "id": "WGoWfXSQOtJr"
   },
   "source": [
    "#### pd.cut() 구간의 개수로 나누기\n",
    "2번째 인자에서 각 구간 구분값(bins)이 리스트형식으로 넣어줬던 것을 –>\n",
    "나눌 구간의 갯수만 입력해준다.  \n",
    "(성분의 최소값 ~ 최대값를 보고 동일 간격으로 구간을 나눈다.)"
   ]
  },
  {
   "cell_type": "code",
   "execution_count": 18,
   "metadata": {
    "id": "ERPJgjx0OtJw",
    "outputId": "940a416e-ffa3-4605-806b-1eb66b7a9748",
    "scrolled": true
   },
   "outputs": [
    {
     "data": {
      "text/plain": [
       "array([0.3463356 , 0.38629938, 0.52789088, 0.89312664, 0.33197371,\n",
       "       0.46034167, 0.78124045, 0.73946898, 0.38313085, 0.10994773,\n",
       "       0.55423567, 0.44882211, 0.78206836, 0.8417825 , 0.34124806,\n",
       "       0.03557312, 0.12084057, 0.30272669, 0.83070677, 0.28976503])"
      ]
     },
     "execution_count": 18,
     "metadata": {},
     "output_type": "execute_result"
    }
   ],
   "source": [
    "import numpy as np\n",
    "\n",
    "data = np.random.rand(20)\n",
    "data"
   ]
  },
  {
   "cell_type": "code",
   "execution_count": 19,
   "metadata": {
    "id": "U8Q_tw9lOtKA",
    "outputId": "2f07c466-037e-4d41-f72b-d2f8cb06312e",
    "scrolled": true
   },
   "outputs": [
    {
     "data": {
      "text/plain": [
       "[(0.25, 0.46], (0.25, 0.46], (0.46, 0.68], (0.68, 0.89], (0.25, 0.46], ..., (0.035, 0.25], (0.035, 0.25], (0.25, 0.46], (0.68, 0.89], (0.25, 0.46]]\n",
       "Length: 20\n",
       "Categories (4, interval[float64]): [(0.035, 0.25] < (0.25, 0.46] < (0.46, 0.68] < (0.68, 0.89]]"
      ]
     },
     "execution_count": 19,
     "metadata": {},
     "output_type": "execute_result"
    }
   ],
   "source": [
    "# 20개의 data성분에 대해, 동일한 길이의 구간으로 4개를 나누었고, \n",
    "# 기준은 소수2번째 자리까지를 기준으로 한다.\n",
    "cat_data = pd.cut(data, 4, precision = 2 )\n",
    "cat_data"
   ]
  },
  {
   "cell_type": "code",
   "execution_count": 20,
   "metadata": {},
   "outputs": [
    {
     "data": {
      "text/plain": [
       "(0.035, 0.25]    3\n",
       "(0.25, 0.46]     9\n",
       "(0.46, 0.68]     2\n",
       "(0.68, 0.89]     6\n",
       "dtype: int64"
      ]
     },
     "execution_count": 20,
     "metadata": {},
     "output_type": "execute_result"
    }
   ],
   "source": [
    "cat_data.value_counts()"
   ]
  },
  {
   "cell_type": "markdown",
   "metadata": {
    "id": "bT9ODxcUOtKL"
   },
   "source": [
    "### pd.qcut() - 동일 개수로 나누어서 범주 만들기 (equal-size buckets categorization)\n",
    "\n",
    "pandas에서는 qcut이라는 함수도 제공한다.  \n",
    "* 지정한 갯수만큼 구간을 정의한다. \n",
    "* pd.cut() 함수는 최대값 쵯소값만 고려해서 구간을 나눈 것에 비해\n",
    "* pd.qcut() 함수는 데이터 분포를 고려하여 각 구간에 동일한 양의 데이터가 들어가도록 분위 수를 구분값으로 구간을 나누는 함수다."
   ]
  },
  {
   "cell_type": "code",
   "execution_count": 21,
   "metadata": {
    "id": "OWC8ofYJOtKM",
    "outputId": "7f7c6397-0c95-4fba-eb29-3ccd929086f3",
    "scrolled": true
   },
   "outputs": [
    {
     "data": {
      "text/plain": [
       "array([-0.78373103,  1.57198385, -0.1223396 ,  0.34691014, -1.21160032,\n",
       "        0.23595402, -0.23564747,  0.09770643, -2.54983367,  0.88919198,\n",
       "        0.14410238, -0.62155561, -1.47261345, -1.15429031, -0.06778531,\n",
       "       -0.11955689, -2.74493396, -0.22417253, -0.1622287 ,  1.13333272,\n",
       "       -1.07169429,  0.46817944,  0.34034762, -1.13058459,  0.1189067 ,\n",
       "        2.15689152,  0.97423639,  1.94108586,  0.98468544, -0.01542878,\n",
       "       -0.34314777, -0.28268882,  0.60869939,  0.35857508, -1.14411813,\n",
       "        0.04848711,  0.36604645, -0.66772031,  1.57106911, -0.66968903,\n",
       "       -1.25031221,  0.79897651, -0.47013156,  0.74134636, -1.18402768,\n",
       "        1.25273471,  0.08061023, -0.6007067 , -1.01757965,  0.94367978,\n",
       "        1.02135386, -0.73136749,  1.05071561, -0.62400738,  0.27588308,\n",
       "       -1.64274084, -0.53859754,  1.80680097, -0.84596752, -0.06622633,\n",
       "        0.54962287, -0.7945461 , -0.6276337 , -0.69720489,  0.93439101,\n",
       "       -0.85355872, -0.84211868, -1.98823336,  0.72273275, -1.45837609,\n",
       "       -1.48379154,  0.35365397,  0.57413389,  0.25744857, -0.98649758,\n",
       "       -0.35864093, -0.08792911,  1.95257989,  1.46784694, -0.11702216,\n",
       "        0.4137596 , -1.18460936, -1.88541907,  1.08008944, -1.14504169,\n",
       "        1.26856442,  0.36592353,  1.43071012, -1.9428712 , -0.2075007 ,\n",
       "       -0.0769325 ,  0.26093773,  0.21728358, -0.47061954, -0.42342953,\n",
       "        0.58427089,  0.5844743 , -1.54588526,  1.0077079 ,  0.71379164])"
      ]
     },
     "execution_count": 21,
     "metadata": {},
     "output_type": "execute_result"
    }
   ],
   "source": [
    "data2 = np.random.randn(100)\n",
    "data2"
   ]
  },
  {
   "cell_type": "code",
   "execution_count": 22,
   "metadata": {
    "id": "o2DzxkpzOtKW"
   },
   "outputs": [],
   "source": [
    "cats = pd.qcut(data2, 4)"
   ]
  },
  {
   "cell_type": "markdown",
   "metadata": {
    "id": "wkdHz7MmOtKj"
   },
   "source": [
    "* cats = pd.qcut(data2, 4)를 통해 4개의 구간을 나눈다.\n",
    "* 최소값<—>최대값 사이를 4등분 하는 것이 아니라, 분포까지 고려해서 4분위로 나눈 다음, 구간을 결정하게 된다.\n",
    "* cut함수와 달리, 각 구간의 길이가 동일하다고 말할 수 없다."
   ]
  },
  {
   "cell_type": "code",
   "execution_count": 23,
   "metadata": {
    "id": "wI0EAn7qOtKl",
    "outputId": "0b3bd80d-ea3b-4b73-8e42-a84a7f185af0",
    "scrolled": false
   },
   "outputs": [
    {
     "data": {
      "text/plain": [
       "[(-0.786, -0.0724], (0.591, 2.157], (-0.786, -0.0724], (-0.0724, 0.591], (-2.746, -0.786], ..., (-0.0724, 0.591], (-0.0724, 0.591], (-2.746, -0.786], (0.591, 2.157], (0.591, 2.157]]\n",
       "Length: 100\n",
       "Categories (4, interval[float64]): [(-2.746, -0.786] < (-0.786, -0.0724] < (-0.0724, 0.591] < (0.591, 2.157]]"
      ]
     },
     "execution_count": 23,
     "metadata": {},
     "output_type": "execute_result"
    }
   ],
   "source": [
    "cats"
   ]
  },
  {
   "cell_type": "code",
   "execution_count": 24,
   "metadata": {
    "id": "oxsyMD1qOtLF"
   },
   "outputs": [
    {
     "data": {
      "text/plain": [
       "(-2.746, -0.786]     25\n",
       "(-0.786, -0.0724]    25\n",
       "(-0.0724, 0.591]     25\n",
       "(0.591, 2.157]       25\n",
       "dtype: int64"
      ]
     },
     "execution_count": 24,
     "metadata": {},
     "output_type": "execute_result"
    }
   ],
   "source": [
    "cats.value_counts()"
   ]
  }
 ],
 "metadata": {
  "colab": {
   "name": "03Discretize.ipynb",
   "provenance": []
  },
  "kernelspec": {
   "display_name": "Python 3",
   "language": "python",
   "name": "python3"
  },
  "language_info": {
   "codemirror_mode": {
    "name": "ipython",
    "version": 3
   },
   "file_extension": ".py",
   "mimetype": "text/x-python",
   "name": "python",
   "nbconvert_exporter": "python",
   "pygments_lexer": "ipython3",
   "version": "3.9.5"
  }
 },
 "nbformat": 4,
 "nbformat_minor": 1
}
