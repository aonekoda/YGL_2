{
 "cells": [
  {
   "cell_type": "markdown",
   "metadata": {},
   "source": [
    "# outlier를 포함한 데이터의 표준화\n",
    "\n",
    "표준정규분포로의 표준화 변환 시에는 \"이상치, 특이값 (outlier)이 없어야 한다\"는 가정사항이 있다.  표준정규분포로 변환하는 공식이 z = (x - mean) / std  이며, 평균(mean)은 이상치, 특이값에 엄청 민감하기 때문이다.\n",
    "\n",
    "* 첫번째 방법은 \"이상치, 특이값을 찾아서 제거\"한 후 표준정규분포로 표준화 변환을 해서 분석, 모델링을 진행하는 방법\n",
    "* 두번째 방법은 \"이상치, 특이값에 덜 민감한\" 중앙값(median)과 IQR(Inter-Quartile Range)을 이용해서 척도를 표준화하는 방법\n"
   ]
  },
  {
   "cell_type": "code",
   "execution_count": 1,
   "metadata": {},
   "outputs": [],
   "source": [
    "import numpy as np\n",
    "from sklearn.preprocessing import StandardScaler, RobustScaler\n",
    "import matplotlib.pyplot as plt\n",
    "import pandas as pd\n"
   ]
  },
  {
   "cell_type": "code",
   "execution_count": 2,
   "metadata": {},
   "outputs": [
    {
     "data": {
      "text/plain": [
       "array([12.66317301, 11.43055795,  6.90919942,  9.9832323 , 11.24267195,\n",
       "        8.55982888, 10.53102317, 10.21709705, 10.00858286,  9.65079958,\n",
       "       10.86605238, 12.40607475,  8.06986866, 12.05654816, 10.45726026,\n",
       "       10.89027523,  7.72679558, 10.27027376, 12.969074  ,  7.84039023,\n",
       "        6.04454344,  6.51325541, 10.53214033, 14.76993466, 12.24738251,\n",
       "       13.34524443, 10.19829843, 12.79599275,  9.45750402, 11.22640837,\n",
       "        9.46536562,  8.90138197, 10.26541659,  9.04771597, 12.61694616,\n",
       "       10.39002656, 10.80041998,  9.32473533, 12.51294453,  8.536061  ,\n",
       "       11.3204631 ,  9.29825622,  8.12113328,  9.02132557,  8.39081772,\n",
       "        9.57460472,  9.32171951, 10.62433987, 11.13030534,  9.70515948,\n",
       "        9.94818933, 10.57818841,  8.92024186, 11.41632004, 11.68444948,\n",
       "       10.40716159, 14.78940733, 11.83491788,  9.77545506,  9.27563911,\n",
       "        9.53563549,  8.9965422 , 12.25757031,  8.60437994,  9.83775563,\n",
       "        8.94140784, 12.09236571,  7.16288794,  9.27500163,  9.75618862,\n",
       "       10.63871284, 10.9218058 ,  9.56842022, 11.97814491, 10.62950756,\n",
       "       14.93530211,  6.98335703, 11.24120133,  7.90973492,  8.40398236,\n",
       "       13.97016918, 13.4896283 ,  6.28762904,  9.5544526 ,  9.8683043 ,\n",
       "        5.73657578,  9.90233898, 10.78668243, 10.43453029,  6.01121246,\n",
       "       12.21541647, 10.48908795,  9.87617594,  8.49221408, 11.42391803,\n",
       "       11.8365383 ,  9.03581372, 10.17917523, 11.65399725,  6.09097576])"
      ]
     },
     "execution_count": 2,
     "metadata": {},
     "output_type": "execute_result"
    }
   ],
   "source": [
    "np.random.seed(10)\n",
    "mu, sigma = 10, 2\n",
    "x = mu + sigma*np.random.randn(100)\n",
    "x"
   ]
  },
  {
   "cell_type": "code",
   "execution_count": 3,
   "metadata": {},
   "outputs": [
    {
     "data": {
      "image/png": "[encoded data removed]",
      "text/plain": [
       "<Figure size 432x288 with 1 Axes>"
      ]
     },
     "metadata": {
      "needs_background": "light"
     },
     "output_type": "display_data"
    }
   ],
   "source": [
    "plt.hist(x)\n",
    "plt.show()"
   ]
  },
  {
   "cell_type": "code",
   "execution_count": 4,
   "metadata": {},
   "outputs": [
    {
     "data": {
      "text/plain": [
       "array([ 12.66317301,  11.43055795,   6.90919942,   9.9832323 ,\n",
       "        11.24267195,   8.55982888,  10.53102317,  10.21709705,\n",
       "        10.00858286,   9.65079958,  10.86605238,  12.40607475,\n",
       "         8.06986866,  12.05654816,  10.45726026,  10.89027523,\n",
       "         7.72679558,  10.27027376,  12.969074  ,   7.84039023,\n",
       "         6.04454344,   6.51325541,  10.53214033,  14.76993466,\n",
       "        12.24738251,  13.34524443,  10.19829843,  12.79599275,\n",
       "         9.45750402,  11.22640837,   9.46536562,   8.90138197,\n",
       "        10.26541659,   9.04771597,  12.61694616,  10.39002656,\n",
       "        10.80041998,   9.32473533,  12.51294453,   8.536061  ,\n",
       "        11.3204631 ,   9.29825622,   8.12113328,   9.02132557,\n",
       "         8.39081772,   9.57460472,   9.32171951,  10.62433987,\n",
       "        11.13030534,   9.70515948,   9.94818933,  10.57818841,\n",
       "         8.92024186,  11.41632004,  11.68444948,  10.40716159,\n",
       "        14.78940733,  11.83491788,   9.77545506,   9.27563911,\n",
       "         9.53563549,   8.9965422 ,  12.25757031,   8.60437994,\n",
       "         9.83775563,   8.94140784,  12.09236571,   7.16288794,\n",
       "         9.27500163,   9.75618862,  10.63871284,  10.9218058 ,\n",
       "         9.56842022,  11.97814491,  10.62950756,  14.93530211,\n",
       "         6.98335703,  11.24120133,   7.90973492,   8.40398236,\n",
       "        13.97016918,  13.4896283 ,   6.28762904,   9.5544526 ,\n",
       "         9.8683043 ,   5.73657578,   9.90233898,  10.78668243,\n",
       "        10.43453029,   6.01121246,  12.21541647,  10.48908795,\n",
       "         9.87617594,   8.49221408,  11.42391803,  11.8365383 ,\n",
       "         9.03581372,  10.17917523, 100.        , 100.        ])"
      ]
     },
     "execution_count": 4,
     "metadata": {},
     "output_type": "execute_result"
    }
   ],
   "source": [
    "# inserting outliers\n",
    "x[98:100] = 100\n",
    "x"
   ]
  },
  {
   "cell_type": "code",
   "execution_count": 5,
   "metadata": {},
   "outputs": [
    {
     "data": {
      "image/png": "[encoded data removed]",
      "text/plain": [
       "<Figure size 432x288 with 1 Axes>"
      ]
     },
     "metadata": {
      "needs_background": "light"
     },
     "output_type": "display_data"
    }
   ],
   "source": [
    "plt.hist(x, bins=100)\n",
    "plt.show()"
   ]
  },
  {
   "cell_type": "markdown",
   "metadata": {},
   "source": [
    "### 이상치가 포함된 데이터의 표준정규분포로의 표준화 :  sklearn.preprocessing.StandardScaler()\n"
   ]
  },
  {
   "cell_type": "code",
   "execution_count": 6,
   "metadata": {},
   "outputs": [
    {
     "data": {
      "text/plain": [
       "array([[-0.01139209],\n",
       "       [-0.23166917],\n",
       "       [-0.14174375],\n",
       "       [ 6.92266724],\n",
       "       [ 6.92266724]])"
      ]
     },
     "execution_count": 6,
     "metadata": {},
     "output_type": "execute_result"
    }
   ],
   "source": [
    "x = x.reshape(-1, 1)\n",
    "x_StandardScaler = StandardScaler().fit_transform(x)\n",
    "x_StandardScaler[-5:]"
   ]
  },
  {
   "cell_type": "code",
   "execution_count": 7,
   "metadata": {},
   "outputs": [
    {
     "data": {
      "image/png": "[encoded data removed]",
      "text/plain": [
       "<Figure size 432x288 with 1 Axes>"
      ]
     },
     "metadata": {
      "needs_background": "light"
     },
     "output_type": "display_data"
    }
   ],
   "source": [
    "plt.hist(x_StandardScaler, bins=100)\n",
    "plt.show()"
   ]
  },
  {
   "cell_type": "markdown",
   "metadata": {},
   "source": [
    "이상치(outlier)를 무시하고 표준화 이후 값 범위 (-3 ~ 3) 사이로 그린 히스토그램\n"
   ]
  },
  {
   "cell_type": "code",
   "execution_count": 8,
   "metadata": {},
   "outputs": [
    {
     "data": {
      "image/png": "[encoded data removed]",
      "text/plain": [
       "<Figure size 432x288 with 1 Axes>"
      ]
     },
     "metadata": {
      "needs_background": "light"
     },
     "output_type": "display_data"
    }
   ],
   "source": [
    "x_StandardScaler_zoomin = x_StandardScaler[x_StandardScaler < 5]\n",
    "plt.hist(x_StandardScaler_zoomin, bins=np.arange(-3.0, 3.0, 0.2))\n",
    "plt.show()"
   ]
  },
  {
   "cell_type": "markdown",
   "metadata": {},
   "source": [
    "### 이상치가 포함된 데이터의 중앙값과 IQR 를 이용한 표준화: sklearn.preprocessing.RobustScaler()\n"
   ]
  },
  {
   "cell_type": "code",
   "execution_count": 9,
   "metadata": {},
   "outputs": [],
   "source": [
    "x_RobustScaler = RobustScaler().fit_transform(x)"
   ]
  },
  {
   "cell_type": "code",
   "execution_count": 10,
   "metadata": {},
   "outputs": [
    {
     "data": {
      "text/plain": [
       "array([[ 8.45896938e-01],\n",
       "       [ 1.18556008e-01],\n",
       "       [-1.39677571e-01],\n",
       "       [-7.22771749e-01],\n",
       "       [ 5.12420891e-01],\n",
       "       [ 6.86267067e-01],\n",
       "       [-4.93741025e-01],\n",
       "       [-1.20171760e-02],\n",
       "       [ 3.78315112e+01],\n",
       "       [ 3.78315112e+01]])"
      ]
     },
     "execution_count": 10,
     "metadata": {},
     "output_type": "execute_result"
    }
   ],
   "source": [
    "x_RobustScaler[-10:]"
   ]
  },
  {
   "cell_type": "code",
   "execution_count": 11,
   "metadata": {},
   "outputs": [
    {
     "data": {
      "image/png": "[encoded data removed]",
      "text/plain": [
       "<Figure size 432x288 with 1 Axes>"
      ]
     },
     "metadata": {
      "needs_background": "light"
     },
     "output_type": "display_data"
    }
   ],
   "source": [
    "plt.hist(x_RobustScaler, bins=100)\n",
    "plt.show()"
   ]
  },
  {
   "cell_type": "markdown",
   "metadata": {},
   "source": [
    "이상치(outlier)를 무시하고 표준화 이후 값 범위 (-3 ~ 3) 사이로 그린 히스토그램\n"
   ]
  },
  {
   "cell_type": "code",
   "execution_count": 12,
   "metadata": {},
   "outputs": [
    {
     "data": {
      "image/png": "[encoded data removed]",
      "text/plain": [
       "<Figure size 432x288 with 1 Axes>"
      ]
     },
     "metadata": {
      "needs_background": "light"
     },
     "output_type": "display_data"
    }
   ],
   "source": [
    "x_RobustScaler_zoomin = x_RobustScaler[x_RobustScaler < 5]\n",
    "plt.hist(x_RobustScaler_zoomin, bins=np.arange(-3, 3, 0.2))\n",
    "plt.show()"
   ]
  },
  {
   "cell_type": "markdown",
   "metadata": {},
   "source": [
    "### 결론\n",
    "* RobustScaler()에 의한 표준화가 outlier의 영향을 덜 받는다.\n",
    "* StandardScaler()에 의한 표준화보다 RobustScaler()에 의한 표준화가 동일한 값을 더 넓게 분포시키고 있음을 알 수 있다."
   ]
  },
  {
   "cell_type": "code",
   "execution_count": 13,
   "metadata": {},
   "outputs": [
    {
     "data": {
      "text/plain": [
       "'0.24.2'"
      ]
     },
     "execution_count": 13,
     "metadata": {},
     "output_type": "execute_result"
    }
   ],
   "source": [
    "import sklearn\n",
    "sklearn.__version__"
   ]
  }
 ],
 "metadata": {
  "kernelspec": {
   "display_name": "Python 3",
   "language": "python",
   "name": "python3"
  },
  "language_info": {
   "codemirror_mode": {
    "name": "ipython",
    "version": 3
   },
   "file_extension": ".py",
   "mimetype": "text/x-python",
   "name": "python",
   "nbconvert_exporter": "python",
   "pygments_lexer": "ipython3",
   "version": "3.9.5"
  }
 },
 "nbformat": 4,
 "nbformat_minor": 4
}
