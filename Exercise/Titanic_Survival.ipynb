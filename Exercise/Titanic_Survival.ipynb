{
 "cells": [
  {
   "cell_type": "markdown",
   "metadata": {
    "colab_type": "text",
    "id": "_xS3ewRZeIAR"
   },
   "source": [
    "# 종합 실습 - 타이타닉 생존 분류 모형\n",
    "\n",
    "타이타닉 데이터 셋을 읽어들이고 앞서 배운 알고리즘을 활용하여 생존 여부를 예측하는 모형을 만들고 예측 모형의 정확도를 평가해 보시오.\n",
    "\n",
    "\n",
    "* Survived - 생존 여부 (0 = 사망, 1 = 생존)\n",
    "* Pclass - 티켓 클래스 (1 = 1등석, 2 = 2등석, 3 = 3등석)\n",
    "* Sex - 성별\n",
    "* Age - 나이\n",
    "* SibSp - 함께 탑승한 자녀 / 배우자 의 수\n",
    "* Parch - 함께 탑승한 부모님 / 아이들 의 수\n",
    "* Ticket - 티켓 번호\n",
    "* Fare - 탑승 요금\n",
    "* Cabin - 선실 번호\n",
    "* Embarked - 선착장 (C = Cherbourg, Q = Queenstown, S = Southampton)\n",
    "\n"
   ]
  },
  {
   "cell_type": "markdown",
   "metadata": {
    "colab_type": "text",
    "id": "lAHm18pOvG0H"
   },
   "source": [
    "### 1. 데이터 읽기"
   ]
  },
  {
   "cell_type": "code",
   "execution_count": 0,
   "metadata": {
    "colab": {},
    "colab_type": "code",
    "id": "duI6HW3hfyE3"
   },
   "outputs": [],
   "source": [
    "# 타이타닉 데이터를 읽어들인다.\n",
    "\n",
    "import pandas as pd\n",
    "\n",
    "titanic = pd.read_csv('../data/titanic.csv')"
   ]
  },
  {
   "cell_type": "code",
   "execution_count": 0,
   "metadata": {
    "colab": {},
    "colab_type": "code",
    "id": "sVufhPz-sCdb"
   },
   "outputs": [],
   "source": []
  },
  {
   "cell_type": "markdown",
   "metadata": {
    "colab_type": "text",
    "id": "yBRw1iInuv5h"
   },
   "source": [
    "### 2. 데이터 전처리 및 특성 추출\n",
    "\n",
    "* 분석에 알맞도록 데이터를 전처리한다.\n",
    "* 분석에 불필요하다고 생각되는 속성(column)은 삭제할 수 있다.\n",
    "* Categorical Feature에 대해 one-hot encoding 으로 전처리 할 수 있다.\n",
    "* 분석에 필요한 컬럼을 생성할 수 있다.( ex. family=Parch + SibSp )"
   ]
  },
  {
   "cell_type": "code",
   "execution_count": 0,
   "metadata": {
    "colab": {},
    "colab_type": "code",
    "id": "XyNdtaIixsyi"
   },
   "outputs": [],
   "source": []
  },
  {
   "cell_type": "markdown",
   "metadata": {
    "colab_type": "text",
    "id": "VnWOyONcvEEX"
   },
   "source": [
    "### 3. 데이터를 훈련데이터/테스트 데이터로 나눈다."
   ]
  },
  {
   "cell_type": "code",
   "execution_count": 0,
   "metadata": {
    "colab": {},
    "colab_type": "code",
    "id": "J65IKQTswdZa"
   },
   "outputs": [],
   "source": []
  },
  {
   "cell_type": "markdown",
   "metadata": {
    "colab_type": "text",
    "id": "cPMFxxSJwdzM"
   },
   "source": [
    "### 4. 모형 설계 및 학습\n",
    "\n",
    "* Logistic Regression\n",
    "* Support Vector Machine (SVM)\n",
    "* Decision Tree\n",
    "* Random Forest"
   ]
  },
  {
   "cell_type": "code",
   "execution_count": 0,
   "metadata": {
    "colab": {},
    "colab_type": "code",
    "id": "-fG_5Jfywnk-"
   },
   "outputs": [],
   "source": []
  },
  {
   "cell_type": "markdown",
   "metadata": {
    "colab_type": "text",
    "id": "89hEqD7dw96T"
   },
   "source": [
    "### 5. 모형의 평가\n",
    "\n",
    "생성한 모형을 비교 평가해 본다."
   ]
  },
  {
   "cell_type": "code",
   "execution_count": 0,
   "metadata": {
    "colab": {},
    "colab_type": "code",
    "id": "llBBxgf7w-JO"
   },
   "outputs": [],
   "source": []
  }
 ],
 "metadata": {
  "colab": {
   "authorship_tag": "ABX9TyNAA3zN/EKwRy9bQT0qMnXH",
   "collapsed_sections": [],
   "mount_file_id": "1cvK-O6uVgSXOkgd9sgWeBA-uZmLGgqE-",
   "name": "Exercise_final.ipynb",
   "provenance": []
  },
  "kernelspec": {
   "display_name": "Python 3",
   "language": "python",
   "name": "python3"
  },
  "language_info": {
   "codemirror_mode": {
    "name": "ipython",
    "version": 3
   },
   "file_extension": ".py",
   "mimetype": "text/x-python",
   "name": "python",
   "nbconvert_exporter": "python",
   "pygments_lexer": "ipython3",
   "version": "3.7.6"
  }
 },
 "nbformat": 4,
 "nbformat_minor": 1
}
