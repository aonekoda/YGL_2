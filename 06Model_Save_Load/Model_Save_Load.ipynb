{
  "nbformat": 4,
  "nbformat_minor": 0,
  "metadata": {
    "colab": {
      "name": "Model_Save_Load.ipynb",
      "provenance": [],
      "collapsed_sections": []
    },
    "kernelspec": {
      "display_name": "Python 3",
      "language": "python",
      "name": "python3"
    },
    "language_info": {
      "codemirror_mode": {
        "name": "ipython",
        "version": 3
      },
      "file_extension": ".py",
      "mimetype": "text/x-python",
      "name": "python",
      "nbconvert_exporter": "python",
      "pygments_lexer": "ipython3",
      "version": "3.8.3"
    }
  },
  "cells": [
    {
      "cell_type": "markdown",
      "metadata": {
        "id": "18PFRkiCj481"
      },
      "source": [
        "# 훈련된 모형의 저장과 복원\n",
        "*모형을 훈련한 후 모형을 저장하고 애플리케이션에 필요할 때 이를 다시 복원 할 수 있어야 한다.\n",
        "* 모형을 피클(pickle)로 저장한다.\n",
        "* 피클이란? 파이썬 객체 자체를 binary 파일로 저장하는 것을 말한다.\n",
        "*사이킷런에는 피클 기능을 확장한 joblib 모듈을 제공한다.\n",
        "* 주의 할 점 – 저장된 모델이 사이킷런 버전 간에 호환되지 않는지 주의해야 한다. 피클을 사용하기 때문에 버전이 맞지 않으면 로드시 에러가 발생한다.\n"
      ]
    },
    {
      "cell_type": "code",
      "metadata": {
        "id": "2yXdbFa-kUK6",
        "outputId": "5982f5f1-1f85-4523-a332-68aa8e6f2b10",
        "colab": {
          "base_uri": "https://localhost:8080/"
        }
      },
      "source": [
        "from sklearn.ensemble import RandomForestClassifier\n",
        "from sklearn import datasets\n",
        "from sklearn.externals import joblib\n",
        "# import joblib ### 0.23.0 이상일 때"
      ],
      "execution_count": null,
      "outputs": [
        {
          "output_type": "stream",
          "text": [
            "/usr/local/lib/python3.6/dist-packages/sklearn/externals/joblib/__init__.py:15: FutureWarning: sklearn.externals.joblib is deprecated in 0.21 and will be removed in 0.23. Please import this functionality directly from joblib, which can be installed with: pip install joblib. If this warning is raised when loading pickled models, you may need to re-serialize those models with scikit-learn 0.21+.\n",
            "  warnings.warn(msg, category=FutureWarning)\n"
          ],
          "name": "stderr"
        }
      ]
    },
    {
      "cell_type": "code",
      "metadata": {
        "id": "2zOPDv3wyUkq"
      },
      "source": [
        "iris = datasets.load_iris()\n",
        "features = iris.data\n",
        "target = iris.target"
      ],
      "execution_count": null,
      "outputs": []
    },
    {
      "cell_type": "code",
      "metadata": {
        "id": "0Kdv5pzByvyu"
      },
      "source": [
        "classifier = RandomForestClassifier()\n",
        "model = classifier.fit(features, target)"
      ],
      "execution_count": null,
      "outputs": []
    },
    {
      "cell_type": "markdown",
      "metadata": {
        "id": "O_eJlVmXzdEg"
      },
      "source": [
        "## Model save"
      ]
    },
    {
      "cell_type": "code",
      "metadata": {
        "id": "Ovq3Yq_SzJAx",
        "outputId": "31a05fac-6b7b-4c1c-af94-def62229cd8d",
        "colab": {
          "base_uri": "https://localhost:8080/",
          "height": 34
        }
      },
      "source": [
        "joblib.dump(model, 'model.pkl')"
      ],
      "execution_count": null,
      "outputs": [
        {
          "output_type": "execute_result",
          "data": {
            "text/plain": [
              "['model.pkl']"
            ]
          },
          "metadata": {
            "tags": []
          },
          "execution_count": 4
        }
      ]
    },
    {
      "cell_type": "markdown",
      "metadata": {
        "id": "UYjFC5MhzXlB"
      },
      "source": [
        "## Model Load"
      ]
    },
    {
      "cell_type": "code",
      "metadata": {
        "id": "wBpn-xIPjxKM",
        "outputId": "8a02bd71-3e22-4cbd-c5f3-4a232a0c6efc",
        "colab": {
          "base_uri": "https://localhost:8080/",
          "height": 217
        }
      },
      "source": [
        "loaded_model = joblib.load(\"model.pkl\")\n",
        "print(loaded_model)"
      ],
      "execution_count": null,
      "outputs": [
        {
          "output_type": "stream",
          "text": [
            "RandomForestClassifier()\n"
          ],
          "name": "stdout"
        }
      ]
    },
    {
      "cell_type": "code",
      "metadata": {
        "id": "-b35DiwHztVH",
        "outputId": "e93fd5f1-583d-4b6d-b330-f79edb0d4b88",
        "colab": {
          "base_uri": "https://localhost:8080/",
          "height": 34
        }
      },
      "source": [
        "new_obs = [[5.2, 3.2, 1.1, 0.1]]\n",
        "loaded_model.predict(new_obs)"
      ],
      "execution_count": null,
      "outputs": [
        {
          "output_type": "execute_result",
          "data": {
            "text/plain": [
              "array([0])"
            ]
          },
          "metadata": {
            "tags": []
          },
          "execution_count": 6
        }
      ]
    },
    {
      "cell_type": "code",
      "metadata": {
        "id": "PUbdtaG5NrTP"
      },
      "source": [
        ""
      ],
      "execution_count": null,
      "outputs": []
    }
  ]
}