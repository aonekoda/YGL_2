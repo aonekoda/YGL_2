{
 "cells": [
  {
   "cell_type": "markdown",
   "metadata": {},
   "source": [
    "# k-겹 교차 검증을 사용한 모델 성능 평가\n",
    "\n",
    "\n",
    "훈련데이터의 일부를 Validation용을 분리하고 모형을 평가하는데 사용한다.\n",
    "\n",
    "* **K-Fold Cross Validata** 은 데이터를 K개의 부분으로 나눈다\n",
    "* K-1개의 폴드를 하나의 훈련셋으로 하여 훈련하고 남은 1개의 폴드를 테스트셋처럼 사용한다.\n",
    "* K번 반복하여 얻은 모형의 성능을 평균하여 최종 성능을 산출한다."
   ]
  },
  {
   "cell_type": "code",
   "execution_count": 1,
   "metadata": {},
   "outputs": [],
   "source": [
    "import numpy as np\n",
    "import matplotlib.pyplot as plt\n",
    "%matplotlib inline"
   ]
  },
  {
   "cell_type": "markdown",
   "metadata": {},
   "source": [
    "유방암데이터를 사용한다. "
   ]
  },
  {
   "cell_type": "code",
   "execution_count": 2,
   "metadata": {},
   "outputs": [],
   "source": [
    "from sklearn.datasets import load_breast_cancer\n",
    "\n",
    "cancer = load_breast_cancer()\n",
    "\n",
    "X = cancer.data\n",
    "y = cancer.target"
   ]
  },
  {
   "cell_type": "code",
   "execution_count": 3,
   "metadata": {},
   "outputs": [],
   "source": [
    "from sklearn.model_selection import train_test_split\n",
    "\n",
    "X_train, X_test, y_train, y_test = train_test_split(\n",
    "    X, y, test_size=0.3, random_state=1, stratify=y)"
   ]
  },
  {
   "cell_type": "code",
   "execution_count": 4,
   "metadata": {},
   "outputs": [
    {
     "name": "stdout",
     "output_type": "stream",
     "text": [
      "테스트 정확도: 0.965\n"
     ]
    }
   ],
   "source": [
    "from sklearn.preprocessing import StandardScaler\n",
    "from sklearn.linear_model import LogisticRegression\n",
    "from sklearn.pipeline import make_pipeline\n",
    "\n",
    "pipe_lr = make_pipeline(StandardScaler(),  # 표준화\n",
    "                        LogisticRegression(solver='liblinear', random_state=1))\n",
    "\n",
    "pipe_lr.fit(X_train, y_train)\n",
    "y_pred = pipe_lr.predict(X_test)\n",
    "print('테스트 정확도: %.3f' % pipe_lr.score(X_test, y_test))"
   ]
  },
  {
   "cell_type": "markdown",
   "metadata": {},
   "source": [
    "### K-fold cross validation\n",
    "\n",
    "* KFold \n",
    "    * n_splits : fold의 갯수를 지정한다.\n",
    "    * shuffle : fold를 나누기전에 데이터를 섞는다.\n",
    "    * random_state : random seed  \n",
    "    \n",
    "* StratifiedKFold : 계층별 KFold. 분류 모형을 평가할 때 타겟 클래스의 샘플이 거의 같은 비율로 폴드에 담기는 것이 좋다. 예를 들어 성별이 남:여=8:2라는 Fold에도 8:2의 비율을 이루도록 하는 것이다."
   ]
  },
  {
   "cell_type": "code",
   "execution_count": 5,
   "metadata": {},
   "outputs": [],
   "source": [
    "from sklearn.model_selection import cross_val_score, KFold, StratifiedKFold\n",
    "\n",
    "kf = KFold(n_splits=10, shuffle=True, random_state=1)\n",
    "\n",
    "stratifiedkf = StratifiedKFold(n_splits=10, shuffle=True, random_state=1)"
   ]
  },
  {
   "cell_type": "markdown",
   "metadata": {},
   "source": [
    "* cross_val_score   \n",
    "    * estimator : 검증하고자 하는 모형, 파이프라인\n",
    "    * cv : 교차검증 기법을 결정한다. cv 옵션을 지정하지 않으면 회귀일때는 KFold, 분류일때는 StratifiedKFold가 사용된다. 정수를 입력하면 기본 분할기의 폴드 수를 지정한다.\n",
    "    * n_jobs : 사용 가능한 CPU 코어의 갯수 (-1이면 모두 사용)\n",
    "    * scoring : \"accuracy\"가 기본, \"recall\",\"precision\"등을 사용할 수 있다."
   ]
  },
  {
   "cell_type": "code",
   "execution_count": 6,
   "metadata": {},
   "outputs": [
    {
     "name": "stdout",
     "output_type": "stream",
     "text": [
      "CV 정확도 점수: [1.         0.94736842 0.94736842 0.98245614 0.92982456 0.98245614\n",
      " 1.         1.         0.96491228 0.98214286]\n",
      "CV 정확도: 0.974\n"
     ]
    }
   ],
   "source": [
    "scores = cross_val_score(estimator=pipe_lr,  # 파이프라인\n",
    "                         X=X,  # 특성값\n",
    "                         y=y,  # 타겟값\n",
    "                         cv=kf,   # 10-Fold Cross validation\n",
    "                         n_jobs=1)\n",
    "print('CV 정확도 점수: %s' % scores)\n",
    "print('CV 정확도: %.3f' % np.mean(scores)) # 평균을 계산한다."
   ]
  },
  {
   "cell_type": "code",
   "execution_count": 7,
   "metadata": {},
   "outputs": [],
   "source": [
    "?cross_val_score"
   ]
  },
  {
   "cell_type": "markdown",
   "metadata": {},
   "source": [
    "# 실습하기\n",
    "\n",
    "* 다음과 같이 digit를 분류하기 위한 데이터셋을 읽어들이고 로지스틱 분류 모형을 생성하시오.\n",
    "* 파이프라인을 생성하고 모형을 훈련한 다음 10 Fold 교차검증으로 평가하시오.\n"
   ]
  },
  {
   "cell_type": "code",
   "execution_count": 8,
   "metadata": {},
   "outputs": [],
   "source": [
    "from sklearn import datasets\n",
    "from sklearn.pipeline import make_pipeline\n",
    "from sklearn.model_selection import cross_val_score, KFold\n",
    "\n",
    "digits = datasets.load_digits()\n",
    "features = digits.data\n",
    "target = digits.target"
   ]
  },
  {
   "cell_type": "code",
   "execution_count": 9,
   "metadata": {},
   "outputs": [],
   "source": [
    "# 실습코드를 작성하시오."
   ]
  }
 ],
 "metadata": {
  "kernelspec": {
   "display_name": "Python 3",
   "language": "python",
   "name": "python3"
  },
  "language_info": {
   "codemirror_mode": {
    "name": "ipython",
    "version": 3
   },
   "file_extension": ".py",
   "mimetype": "text/x-python",
   "name": "python",
   "nbconvert_exporter": "python",
   "pygments_lexer": "ipython3",
   "version": "3.7.6"
  }
 },
 "nbformat": 4,
 "nbformat_minor": 4
}
